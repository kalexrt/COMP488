{
  "nbformat": 4,
  "nbformat_minor": 0,
  "metadata": {
    "colab": {
      "provenance": []
    },
    "kernelspec": {
      "name": "python3",
      "display_name": "Python 3"
    },
    "language_info": {
      "name": "python"
    }
  },
  "cells": [
    {
      "cell_type": "markdown",
      "source": [
        "## Building the Word2vec model using gensim:"
      ],
      "metadata": {
        "id": "AspJBUkX2hXp"
      }
    },
    {
      "cell_type": "code",
      "source": [
        "!pip install -U gensim"
      ],
      "metadata": {
        "colab": {
          "base_uri": "https://localhost:8080/"
        },
        "id": "OuN4e3N42ORQ",
        "outputId": "afbc13c6-4688-4793-f481-b7d6f3678b4d"
      },
      "execution_count": 2,
      "outputs": [
        {
          "output_type": "stream",
          "name": "stdout",
          "text": [
            "Requirement already satisfied: gensim in /usr/local/lib/python3.10/dist-packages (4.3.2)\n",
            "Requirement already satisfied: numpy>=1.18.5 in /usr/local/lib/python3.10/dist-packages (from gensim) (1.23.5)\n",
            "Requirement already satisfied: scipy>=1.7.0 in /usr/local/lib/python3.10/dist-packages (from gensim) (1.11.3)\n",
            "Requirement already satisfied: smart-open>=1.8.1 in /usr/local/lib/python3.10/dist-packages (from gensim) (6.4.0)\n"
          ]
        }
      ]
    },
    {
      "cell_type": "code",
      "execution_count": 4,
      "metadata": {
        "colab": {
          "base_uri": "https://localhost:8080/"
        },
        "id": "aAj5ZFh2tT_S",
        "outputId": "a9bd0556-aa81-4770-f37a-9c7b3f1da2c3"
      },
      "outputs": [
        {
          "output_type": "stream",
          "name": "stderr",
          "text": [
            "[nltk_data] Downloading package stopwords to /root/nltk_data...\n",
            "[nltk_data]   Unzipping corpora/stopwords.zip.\n"
          ]
        }
      ],
      "source": [
        "import warnings\n",
        "warnings.filterwarnings(action='ignore')\n",
        "\n",
        "import nltk\n",
        "nltk.download('stopwords')\n",
        "\n",
        "#data processing\n",
        "import pandas as pd\n",
        "import re\n",
        "from nltk.corpus import stopwords\n",
        "stopWords = stopwords.words('english')\n",
        "\n",
        "#modelling\n",
        "from gensim.models import Word2Vec\n",
        "from gensim.models import Phrases\n",
        "from gensim.models.phrases import Phraser"
      ]
    },
    {
      "cell_type": "code",
      "source": [
        "data = pd.read_csv('/content/text.csv',header=None)"
      ],
      "metadata": {
        "id": "EY8WiHZL2WEU"
      },
      "execution_count": 5,
      "outputs": []
    },
    {
      "cell_type": "code",
      "source": [
        "data.head()"
      ],
      "metadata": {
        "colab": {
          "base_uri": "https://localhost:8080/",
          "height": 206
        },
        "id": "3CB0RDFq2b_1",
        "outputId": "5cee5191-d70d-4d00-dc27-75748d4d80e2"
      },
      "execution_count": 6,
      "outputs": [
        {
          "output_type": "execute_result",
          "data": {
            "text/plain": [
              "                                                   0\n",
              "0  room kind clean strong smell dogs. generally a...\n",
              "1  stayed crown plaza april april . staff friendl...\n",
              "2  booked hotel hotwire lowest price could find. ...\n",
              "3  stayed husband sons way alaska cruise. loved h...\n",
              "4  girlfriends stayed celebrate th birthdays. pla..."
            ],
            "text/html": [
              "\n",
              "  <div id=\"df-8b220569-7f79-4ac9-a6ff-73f4c23d0dc8\" class=\"colab-df-container\">\n",
              "    <div>\n",
              "<style scoped>\n",
              "    .dataframe tbody tr th:only-of-type {\n",
              "        vertical-align: middle;\n",
              "    }\n",
              "\n",
              "    .dataframe tbody tr th {\n",
              "        vertical-align: top;\n",
              "    }\n",
              "\n",
              "    .dataframe thead th {\n",
              "        text-align: right;\n",
              "    }\n",
              "</style>\n",
              "<table border=\"1\" class=\"dataframe\">\n",
              "  <thead>\n",
              "    <tr style=\"text-align: right;\">\n",
              "      <th></th>\n",
              "      <th>0</th>\n",
              "    </tr>\n",
              "  </thead>\n",
              "  <tbody>\n",
              "    <tr>\n",
              "      <th>0</th>\n",
              "      <td>room kind clean strong smell dogs. generally a...</td>\n",
              "    </tr>\n",
              "    <tr>\n",
              "      <th>1</th>\n",
              "      <td>stayed crown plaza april april . staff friendl...</td>\n",
              "    </tr>\n",
              "    <tr>\n",
              "      <th>2</th>\n",
              "      <td>booked hotel hotwire lowest price could find. ...</td>\n",
              "    </tr>\n",
              "    <tr>\n",
              "      <th>3</th>\n",
              "      <td>stayed husband sons way alaska cruise. loved h...</td>\n",
              "    </tr>\n",
              "    <tr>\n",
              "      <th>4</th>\n",
              "      <td>girlfriends stayed celebrate th birthdays. pla...</td>\n",
              "    </tr>\n",
              "  </tbody>\n",
              "</table>\n",
              "</div>\n",
              "    <div class=\"colab-df-buttons\">\n",
              "\n",
              "  <div class=\"colab-df-container\">\n",
              "    <button class=\"colab-df-convert\" onclick=\"convertToInteractive('df-8b220569-7f79-4ac9-a6ff-73f4c23d0dc8')\"\n",
              "            title=\"Convert this dataframe to an interactive table.\"\n",
              "            style=\"display:none;\">\n",
              "\n",
              "  <svg xmlns=\"http://www.w3.org/2000/svg\" height=\"24px\" viewBox=\"0 -960 960 960\">\n",
              "    <path d=\"M120-120v-720h720v720H120Zm60-500h600v-160H180v160Zm220 220h160v-160H400v160Zm0 220h160v-160H400v160ZM180-400h160v-160H180v160Zm440 0h160v-160H620v160ZM180-180h160v-160H180v160Zm440 0h160v-160H620v160Z\"/>\n",
              "  </svg>\n",
              "    </button>\n",
              "\n",
              "  <style>\n",
              "    .colab-df-container {\n",
              "      display:flex;\n",
              "      gap: 12px;\n",
              "    }\n",
              "\n",
              "    .colab-df-convert {\n",
              "      background-color: #E8F0FE;\n",
              "      border: none;\n",
              "      border-radius: 50%;\n",
              "      cursor: pointer;\n",
              "      display: none;\n",
              "      fill: #1967D2;\n",
              "      height: 32px;\n",
              "      padding: 0 0 0 0;\n",
              "      width: 32px;\n",
              "    }\n",
              "\n",
              "    .colab-df-convert:hover {\n",
              "      background-color: #E2EBFA;\n",
              "      box-shadow: 0px 1px 2px rgba(60, 64, 67, 0.3), 0px 1px 3px 1px rgba(60, 64, 67, 0.15);\n",
              "      fill: #174EA6;\n",
              "    }\n",
              "\n",
              "    .colab-df-buttons div {\n",
              "      margin-bottom: 4px;\n",
              "    }\n",
              "\n",
              "    [theme=dark] .colab-df-convert {\n",
              "      background-color: #3B4455;\n",
              "      fill: #D2E3FC;\n",
              "    }\n",
              "\n",
              "    [theme=dark] .colab-df-convert:hover {\n",
              "      background-color: #434B5C;\n",
              "      box-shadow: 0px 1px 3px 1px rgba(0, 0, 0, 0.15);\n",
              "      filter: drop-shadow(0px 1px 2px rgba(0, 0, 0, 0.3));\n",
              "      fill: #FFFFFF;\n",
              "    }\n",
              "  </style>\n",
              "\n",
              "    <script>\n",
              "      const buttonEl =\n",
              "        document.querySelector('#df-8b220569-7f79-4ac9-a6ff-73f4c23d0dc8 button.colab-df-convert');\n",
              "      buttonEl.style.display =\n",
              "        google.colab.kernel.accessAllowed ? 'block' : 'none';\n",
              "\n",
              "      async function convertToInteractive(key) {\n",
              "        const element = document.querySelector('#df-8b220569-7f79-4ac9-a6ff-73f4c23d0dc8');\n",
              "        const dataTable =\n",
              "          await google.colab.kernel.invokeFunction('convertToInteractive',\n",
              "                                                    [key], {});\n",
              "        if (!dataTable) return;\n",
              "\n",
              "        const docLinkHtml = 'Like what you see? Visit the ' +\n",
              "          '<a target=\"_blank\" href=https://colab.research.google.com/notebooks/data_table.ipynb>data table notebook</a>'\n",
              "          + ' to learn more about interactive tables.';\n",
              "        element.innerHTML = '';\n",
              "        dataTable['output_type'] = 'display_data';\n",
              "        await google.colab.output.renderOutput(dataTable, element);\n",
              "        const docLink = document.createElement('div');\n",
              "        docLink.innerHTML = docLinkHtml;\n",
              "        element.appendChild(docLink);\n",
              "      }\n",
              "    </script>\n",
              "  </div>\n",
              "\n",
              "\n",
              "<div id=\"df-4869a434-ca69-42f1-8b37-e1620d66e6fc\">\n",
              "  <button class=\"colab-df-quickchart\" onclick=\"quickchart('df-4869a434-ca69-42f1-8b37-e1620d66e6fc')\"\n",
              "            title=\"Suggest charts.\"\n",
              "            style=\"display:none;\">\n",
              "\n",
              "<svg xmlns=\"http://www.w3.org/2000/svg\" height=\"24px\"viewBox=\"0 0 24 24\"\n",
              "     width=\"24px\">\n",
              "    <g>\n",
              "        <path d=\"M19 3H5c-1.1 0-2 .9-2 2v14c0 1.1.9 2 2 2h14c1.1 0 2-.9 2-2V5c0-1.1-.9-2-2-2zM9 17H7v-7h2v7zm4 0h-2V7h2v10zm4 0h-2v-4h2v4z\"/>\n",
              "    </g>\n",
              "</svg>\n",
              "  </button>\n",
              "\n",
              "<style>\n",
              "  .colab-df-quickchart {\n",
              "      --bg-color: #E8F0FE;\n",
              "      --fill-color: #1967D2;\n",
              "      --hover-bg-color: #E2EBFA;\n",
              "      --hover-fill-color: #174EA6;\n",
              "      --disabled-fill-color: #AAA;\n",
              "      --disabled-bg-color: #DDD;\n",
              "  }\n",
              "\n",
              "  [theme=dark] .colab-df-quickchart {\n",
              "      --bg-color: #3B4455;\n",
              "      --fill-color: #D2E3FC;\n",
              "      --hover-bg-color: #434B5C;\n",
              "      --hover-fill-color: #FFFFFF;\n",
              "      --disabled-bg-color: #3B4455;\n",
              "      --disabled-fill-color: #666;\n",
              "  }\n",
              "\n",
              "  .colab-df-quickchart {\n",
              "    background-color: var(--bg-color);\n",
              "    border: none;\n",
              "    border-radius: 50%;\n",
              "    cursor: pointer;\n",
              "    display: none;\n",
              "    fill: var(--fill-color);\n",
              "    height: 32px;\n",
              "    padding: 0;\n",
              "    width: 32px;\n",
              "  }\n",
              "\n",
              "  .colab-df-quickchart:hover {\n",
              "    background-color: var(--hover-bg-color);\n",
              "    box-shadow: 0 1px 2px rgba(60, 64, 67, 0.3), 0 1px 3px 1px rgba(60, 64, 67, 0.15);\n",
              "    fill: var(--button-hover-fill-color);\n",
              "  }\n",
              "\n",
              "  .colab-df-quickchart-complete:disabled,\n",
              "  .colab-df-quickchart-complete:disabled:hover {\n",
              "    background-color: var(--disabled-bg-color);\n",
              "    fill: var(--disabled-fill-color);\n",
              "    box-shadow: none;\n",
              "  }\n",
              "\n",
              "  .colab-df-spinner {\n",
              "    border: 2px solid var(--fill-color);\n",
              "    border-color: transparent;\n",
              "    border-bottom-color: var(--fill-color);\n",
              "    animation:\n",
              "      spin 1s steps(1) infinite;\n",
              "  }\n",
              "\n",
              "  @keyframes spin {\n",
              "    0% {\n",
              "      border-color: transparent;\n",
              "      border-bottom-color: var(--fill-color);\n",
              "      border-left-color: var(--fill-color);\n",
              "    }\n",
              "    20% {\n",
              "      border-color: transparent;\n",
              "      border-left-color: var(--fill-color);\n",
              "      border-top-color: var(--fill-color);\n",
              "    }\n",
              "    30% {\n",
              "      border-color: transparent;\n",
              "      border-left-color: var(--fill-color);\n",
              "      border-top-color: var(--fill-color);\n",
              "      border-right-color: var(--fill-color);\n",
              "    }\n",
              "    40% {\n",
              "      border-color: transparent;\n",
              "      border-right-color: var(--fill-color);\n",
              "      border-top-color: var(--fill-color);\n",
              "    }\n",
              "    60% {\n",
              "      border-color: transparent;\n",
              "      border-right-color: var(--fill-color);\n",
              "    }\n",
              "    80% {\n",
              "      border-color: transparent;\n",
              "      border-right-color: var(--fill-color);\n",
              "      border-bottom-color: var(--fill-color);\n",
              "    }\n",
              "    90% {\n",
              "      border-color: transparent;\n",
              "      border-bottom-color: var(--fill-color);\n",
              "    }\n",
              "  }\n",
              "</style>\n",
              "\n",
              "  <script>\n",
              "    async function quickchart(key) {\n",
              "      const quickchartButtonEl =\n",
              "        document.querySelector('#' + key + ' button');\n",
              "      quickchartButtonEl.disabled = true;  // To prevent multiple clicks.\n",
              "      quickchartButtonEl.classList.add('colab-df-spinner');\n",
              "      try {\n",
              "        const charts = await google.colab.kernel.invokeFunction(\n",
              "            'suggestCharts', [key], {});\n",
              "      } catch (error) {\n",
              "        console.error('Error during call to suggestCharts:', error);\n",
              "      }\n",
              "      quickchartButtonEl.classList.remove('colab-df-spinner');\n",
              "      quickchartButtonEl.classList.add('colab-df-quickchart-complete');\n",
              "    }\n",
              "    (() => {\n",
              "      let quickchartButtonEl =\n",
              "        document.querySelector('#df-4869a434-ca69-42f1-8b37-e1620d66e6fc button');\n",
              "      quickchartButtonEl.style.display =\n",
              "        google.colab.kernel.accessAllowed ? 'block' : 'none';\n",
              "    })();\n",
              "  </script>\n",
              "</div>\n",
              "    </div>\n",
              "  </div>\n"
            ]
          },
          "metadata": {},
          "execution_count": 6
        }
      ]
    },
    {
      "cell_type": "markdown",
      "source": [
        "# Preprocessing and preparing the dataset:"
      ],
      "metadata": {
        "id": "FEcuLXB52pWe"
      }
    },
    {
      "cell_type": "code",
      "source": [
        "def pre_process(text):\n",
        "\n",
        "    #convert to lowercase\n",
        "    text = str(text).lower()\n",
        "\n",
        "    #remove all special characters and keep only alpha numeric characters and spaces\n",
        "    text = re.sub(r'[^A-Za-z0-9\\s.]',r'',text)\n",
        "\n",
        "    #remove new lines\n",
        "    text = re.sub(r'\\n',r' ',text)\n",
        "\n",
        "    # remove stop words\n",
        "    text = \" \".join([word for word in text.split() if word not in stopWords])\n",
        "\n",
        "    return text"
      ],
      "metadata": {
        "id": "DPemxJ1n2egA"
      },
      "execution_count": 7,
      "outputs": []
    },
    {
      "cell_type": "code",
      "source": [
        "pre_process(data[0][50])"
      ],
      "metadata": {
        "colab": {
          "base_uri": "https://localhost:8080/",
          "height": 53
        },
        "id": "hCw007_z2tDb",
        "outputId": "3a157c9b-b786-4a60-ca60-4c387924f192"
      },
      "execution_count": 8,
      "outputs": [
        {
          "output_type": "execute_result",
          "data": {
            "text/plain": [
              "'agree fancy. everything needed. breakfast pool hot tub nice shuttle airport later checkout time. noise issue tough sleep through. awhile forget noisy door nearby noisy guests. complained management later email credit compd us amount requested would return.'"
            ],
            "application/vnd.google.colaboratory.intrinsic+json": {
              "type": "string"
            }
          },
          "metadata": {},
          "execution_count": 8
        }
      ]
    },
    {
      "cell_type": "code",
      "source": [
        "data[0] = data[0].map(lambda x: pre_process(x))"
      ],
      "metadata": {
        "id": "EFmigDRC20yb"
      },
      "execution_count": 9,
      "outputs": []
    },
    {
      "cell_type": "code",
      "source": [
        "data[0].head()"
      ],
      "metadata": {
        "colab": {
          "base_uri": "https://localhost:8080/"
        },
        "id": "eu2zV8OY22jc",
        "outputId": "faeb6bee-74ea-4a9f-9984-bf4dba69c842"
      },
      "execution_count": 10,
      "outputs": [
        {
          "output_type": "execute_result",
          "data": {
            "text/plain": [
              "0    room kind clean strong smell dogs. generally a...\n",
              "1    stayed crown plaza april april . staff friendl...\n",
              "2    booked hotel hotwire lowest price could find. ...\n",
              "3    stayed husband sons way alaska cruise. loved h...\n",
              "4    girlfriends stayed celebrate th birthdays. pla...\n",
              "Name: 0, dtype: object"
            ]
          },
          "metadata": {},
          "execution_count": 10
        }
      ]
    },
    {
      "cell_type": "code",
      "source": [
        "data[0][1].split('.')[:5]"
      ],
      "metadata": {
        "colab": {
          "base_uri": "https://localhost:8080/"
        },
        "id": "D6c0IGP_24T1",
        "outputId": "d2b889d0-facf-47a0-e846-7633a1be7af0"
      },
      "execution_count": 11,
      "outputs": [
        {
          "output_type": "execute_result",
          "data": {
            "text/plain": [
              "['stayed crown plaza april april ',\n",
              " ' staff friendly attentive',\n",
              " ' elevators tiny ',\n",
              " ' food restaurant delicious priced little high side',\n",
              " ' course washington dc']"
            ]
          },
          "metadata": {},
          "execution_count": 11
        }
      ]
    },
    {
      "cell_type": "code",
      "source": [
        "corpus = []\n",
        "for line in data[0][1].split('.'):\n",
        "    words = [x for x in line.split()]\n",
        "    corpus.append(words)"
      ],
      "metadata": {
        "id": "LWShH-9427NI"
      },
      "execution_count": 12,
      "outputs": []
    },
    {
      "cell_type": "code",
      "source": [
        "corpus[:2]"
      ],
      "metadata": {
        "colab": {
          "base_uri": "https://localhost:8080/"
        },
        "id": "GGwr_bG029Km",
        "outputId": "63c64db9-f593-463f-f255-83b2c2dbd6b1"
      },
      "execution_count": 13,
      "outputs": [
        {
          "output_type": "execute_result",
          "data": {
            "text/plain": [
              "[['stayed', 'crown', 'plaza', 'april', 'april'],\n",
              " ['staff', 'friendly', 'attentive']]"
            ]
          },
          "metadata": {},
          "execution_count": 13
        }
      ]
    },
    {
      "cell_type": "code",
      "source": [
        "data = data[0].map(lambda x: x.split('.'))\n",
        "\n",
        "corpus = []\n",
        "for i in (range(len(data))):\n",
        "    for line in data[i]:\n",
        "        words = [x for x in line.split()]\n",
        "        corpus.append(words)\n",
        "\n",
        "corpus[:2]"
      ],
      "metadata": {
        "colab": {
          "base_uri": "https://localhost:8080/"
        },
        "id": "4hNK6Nx12-v9",
        "outputId": "e645aa0b-985e-49ba-8ad4-e84b6c2fd6b0"
      },
      "execution_count": 14,
      "outputs": [
        {
          "output_type": "execute_result",
          "data": {
            "text/plain": [
              "[['room', 'kind', 'clean', 'strong', 'smell', 'dogs'],\n",
              " ['generally', 'average', 'ok', 'overnight', 'stay', 'youre', 'fussy']]"
            ]
          },
          "metadata": {},
          "execution_count": 14
        }
      ]
    },
    {
      "cell_type": "code",
      "source": [
        "phrases = Phrases(sentences=corpus,min_count=25,threshold=50)\n",
        "bigram = Phraser(phrases)"
      ],
      "metadata": {
        "id": "IM5EtBSL3DZ2"
      },
      "execution_count": 15,
      "outputs": []
    },
    {
      "cell_type": "code",
      "source": [
        "for index,sentence in enumerate(corpus):\n",
        "    corpus[index] = bigram[sentence]"
      ],
      "metadata": {
        "id": "uwrtmWKc3E_5"
      },
      "execution_count": 16,
      "outputs": []
    },
    {
      "cell_type": "code",
      "source": [
        "corpus[111]"
      ],
      "metadata": {
        "colab": {
          "base_uri": "https://localhost:8080/"
        },
        "id": "qeBEcpfb3Gav",
        "outputId": "b9c6d2a3-b9b5-452c-9e7d-d6615dd3bbcb"
      },
      "execution_count": 17,
      "outputs": [
        {
          "output_type": "execute_result",
          "data": {
            "text/plain": [
              "['connected', 'rivercenter', 'mall', 'downtown', 'san_antonio']"
            ]
          },
          "metadata": {},
          "execution_count": 17
        }
      ]
    },
    {
      "cell_type": "code",
      "source": [
        "corpus[9]"
      ],
      "metadata": {
        "colab": {
          "base_uri": "https://localhost:8080/"
        },
        "id": "W1IZbhwj3ImU",
        "outputId": "be67b506-8efb-45b2-de04-3a8ccc21dd6d"
      },
      "execution_count": 18,
      "outputs": [
        {
          "output_type": "execute_result",
          "data": {
            "text/plain": [
              "['course', 'washington_dc']"
            ]
          },
          "metadata": {},
          "execution_count": 18
        }
      ]
    },
    {
      "cell_type": "markdown",
      "source": [
        "# Building the model:"
      ],
      "metadata": {
        "id": "8n0ZDIMF3LQS"
      }
    },
    {
      "cell_type": "code",
      "source": [
        "size = 100\n",
        "window_size = 2\n",
        "epochs = 100\n",
        "min_count = 2\n",
        "workers = 4\n",
        "sg = 1"
      ],
      "metadata": {
        "id": "5GDguufA3Nze"
      },
      "execution_count": 19,
      "outputs": []
    },
    {
      "cell_type": "code",
      "source": [
        "model = Word2Vec(corpus, sg=1,window=window_size,vector_size=size,min_count=min_count,workers=workers,epochs=epochs)"
      ],
      "metadata": {
        "id": "Eki22QCJ3QpL"
      },
      "execution_count": 20,
      "outputs": []
    },
    {
      "cell_type": "code",
      "source": [
        "model.save('/content/model/word2vec.model')"
      ],
      "metadata": {
        "id": "a8nENUKQ3Rbg"
      },
      "execution_count": 21,
      "outputs": []
    },
    {
      "cell_type": "code",
      "source": [
        "model = Word2Vec.load('/content/model/word2vec.model')"
      ],
      "metadata": {
        "id": "z5sfK6kD3Uwr"
      },
      "execution_count": 22,
      "outputs": []
    },
    {
      "cell_type": "markdown",
      "source": [
        "# Evaluating the embeddings:"
      ],
      "metadata": {
        "id": "F9FimTh63ZLh"
      }
    },
    {
      "cell_type": "code",
      "source": [
        "model.wv.most_similar('san_diego')"
      ],
      "metadata": {
        "colab": {
          "base_uri": "https://localhost:8080/"
        },
        "id": "P8dqEBit3abf",
        "outputId": "6b8226f5-3ea0-4c06-e573-0ae11fd8f493"
      },
      "execution_count": 23,
      "outputs": [
        {
          "output_type": "execute_result",
          "data": {
            "text/plain": [
              "[('san_antonio', 0.7573949098587036),\n",
              " ('dallas', 0.7460066080093384),\n",
              " ('memphis', 0.7446577548980713),\n",
              " ('austin', 0.7370147705078125),\n",
              " ('seattle', 0.7355470657348633),\n",
              " ('boston', 0.732273519039154),\n",
              " ('sd', 0.7298120856285095),\n",
              " ('san_francisco', 0.7271774411201477),\n",
              " ('phoenix', 0.7263659834861755),\n",
              " ('chicago', 0.7155700922012329)]"
            ]
          },
          "metadata": {},
          "execution_count": 23
        }
      ]
    },
    {
      "cell_type": "code",
      "source": [
        "model.wv.most_similar(positive=['woman', 'king'], negative=['man'], topn=1)"
      ],
      "metadata": {
        "colab": {
          "base_uri": "https://localhost:8080/"
        },
        "id": "4mUZkkpm3chU",
        "outputId": "1ae266d9-e6a8-4007-dcbc-3bfa56cb7081"
      },
      "execution_count": 24,
      "outputs": [
        {
          "output_type": "execute_result",
          "data": {
            "text/plain": [
              "[('queen', 0.7437578439712524)]"
            ]
          },
          "metadata": {},
          "execution_count": 24
        }
      ]
    },
    {
      "cell_type": "code",
      "source": [
        "text = ['los_angeles','indianapolis', 'holiday', 'san_antonio','new_york']\n",
        "\n",
        "model.wv.doesnt_match(text)"
      ],
      "metadata": {
        "colab": {
          "base_uri": "https://localhost:8080/",
          "height": 36
        },
        "id": "Ol0uYiju3f9w",
        "outputId": "c80cf627-cb18-429e-8b57-cbeb95f4e3bc"
      },
      "execution_count": 25,
      "outputs": [
        {
          "output_type": "execute_result",
          "data": {
            "text/plain": [
              "'holiday'"
            ],
            "application/vnd.google.colaboratory.intrinsic+json": {
              "type": "string"
            }
          },
          "metadata": {},
          "execution_count": 25
        }
      ]
    },
    {
      "cell_type": "markdown",
      "source": [
        "## Visualizing word embeddings in TensorBoard:"
      ],
      "metadata": {
        "id": "_sx_lDNu3jRD"
      }
    },
    {
      "cell_type": "code",
      "source": [
        "import warnings\n",
        "warnings.filterwarnings(action='ignore')\n",
        "\n",
        "import tensorflow as tf\n",
        "# from tensorflow.contrib.tensorboard.plugins import projector\n",
        "from tensorboard.plugins import projector\n",
        "\n",
        "# tf.logging.set_verbosity(tf.logging.ERROR)\n",
        "\n",
        "import numpy as np\n",
        "import gensim\n",
        "import os"
      ],
      "metadata": {
        "id": "v_QMGfht3lFn"
      },
      "execution_count": 26,
      "outputs": []
    },
    {
      "cell_type": "code",
      "source": [
        "file_name = \"/content/model/word2vec.model\"\n",
        "model = gensim.models.keyedvectors.KeyedVectors.load(file_name)"
      ],
      "metadata": {
        "id": "_bdAsDoH3pI3"
      },
      "execution_count": 27,
      "outputs": []
    },
    {
      "cell_type": "code",
      "source": [
        "max_size = len(model.wv.key_to_index)-1"
      ],
      "metadata": {
        "id": "o3YZ-0D43qoJ"
      },
      "execution_count": 28,
      "outputs": []
    },
    {
      "cell_type": "code",
      "source": [
        "w2v =np.zeros((max_size,model.layer1_size))"
      ],
      "metadata": {
        "id": "tUXhs16a3sOb"
      },
      "execution_count": 29,
      "outputs": []
    },
    {
      "cell_type": "code",
      "source": [
        "if not os.path.exists('projections'):\n",
        "  os.makedirs('projections')\n",
        "\n",
        "with open(\"projections/metadata.tsv\",'w+') as file_metadata:\n",
        "\n",
        "  for i, word in enumerate(model.wv.index_to_key[:max_size]):\n",
        "\n",
        "    #store the embeddings of the word\n",
        "    w2v[i] = model.wv[word]\n",
        "\n",
        "    #write the word to a file\n",
        "    file_metadata.write(word + '\\n')"
      ],
      "metadata": {
        "id": "CrNNoc433t7R"
      },
      "execution_count": 30,
      "outputs": []
    },
    {
      "cell_type": "code",
      "source": [
        "tf.compat.v1.disable_eager_execution()\n",
        "\n",
        "sess = tf.compat.v1.InteractiveSession()"
      ],
      "metadata": {
        "id": "m3nmJoCu3vhB"
      },
      "execution_count": 31,
      "outputs": []
    },
    {
      "cell_type": "code",
      "source": [
        "with tf.device(\"/cpu:0\"):\n",
        "    embedding = tf.Variable(w2v, trainable=False, name='embedding')"
      ],
      "metadata": {
        "id": "q_Iojam83xrm"
      },
      "execution_count": 32,
      "outputs": []
    },
    {
      "cell_type": "code",
      "source": [
        "tf.compat.v1.global_variables_initializer().run()"
      ],
      "metadata": {
        "id": "lA8nXv9F35YX"
      },
      "execution_count": 33,
      "outputs": []
    },
    {
      "cell_type": "code",
      "source": [
        "saver = tf.compat.v1.train.Saver()"
      ],
      "metadata": {
        "id": "oqr79dU436xU"
      },
      "execution_count": 34,
      "outputs": []
    },
    {
      "cell_type": "code",
      "source": [
        "writer = tf.compat.v1.summary.FileWriter('projections',sess.graph)"
      ],
      "metadata": {
        "id": "4bBtri1-38Ee"
      },
      "execution_count": 35,
      "outputs": []
    },
    {
      "cell_type": "code",
      "source": [
        "config = projector.ProjectorConfig()\n",
        "embed= config.embeddings.add()"
      ],
      "metadata": {
        "id": "F-s39LTc39rw"
      },
      "execution_count": 36,
      "outputs": []
    },
    {
      "cell_type": "code",
      "source": [
        "embed.tensor_name = 'embedding'\n",
        "embed.metadata_path = 'metadata.tsv'"
      ],
      "metadata": {
        "id": "5Pt_37Ds3_Ji"
      },
      "execution_count": 37,
      "outputs": []
    },
    {
      "cell_type": "code",
      "source": [
        "projector.visualize_embeddings(writer, config)\n",
        "\n",
        "saver.save(sess, 'projections/model.ckpt', global_step=max_size)"
      ],
      "metadata": {
        "colab": {
          "base_uri": "https://localhost:8080/",
          "height": 36
        },
        "id": "QngLsn7g4Awa",
        "outputId": "1f6af613-555e-448c-9dfe-f4a054054979"
      },
      "execution_count": 38,
      "outputs": [
        {
          "output_type": "execute_result",
          "data": {
            "text/plain": [
              "'projections/model.ckpt-28070'"
            ],
            "application/vnd.google.colaboratory.intrinsic+json": {
              "type": "string"
            }
          },
          "metadata": {},
          "execution_count": 38
        }
      ]
    },
    {
      "cell_type": "code",
      "source": [
        "%load_ext tensorboard"
      ],
      "metadata": {
        "id": "_w5CQwQ84Dia"
      },
      "execution_count": 39,
      "outputs": []
    },
    {
      "cell_type": "code",
      "source": [
        "%tensorboard --logdir=projections --port=8000"
      ],
      "metadata": {
        "colab": {
          "base_uri": "https://localhost:8080/",
          "height": 822
        },
        "id": "jIiI6oiJ4FSi",
        "outputId": "2aa37965-ad6f-4dab-b2f6-c137c86e38ac"
      },
      "execution_count": 40,
      "outputs": [
        {
          "output_type": "display_data",
          "data": {
            "text/plain": [
              "<IPython.core.display.Javascript object>"
            ],
            "application/javascript": [
              "\n",
              "        (async () => {\n",
              "            const url = new URL(await google.colab.kernel.proxyPort(8000, {'cache': true}));\n",
              "            url.searchParams.set('tensorboardColab', 'true');\n",
              "            const iframe = document.createElement('iframe');\n",
              "            iframe.src = url;\n",
              "            iframe.setAttribute('width', '100%');\n",
              "            iframe.setAttribute('height', '800');\n",
              "            iframe.setAttribute('frameborder', 0);\n",
              "            document.body.appendChild(iframe);\n",
              "        })();\n",
              "    "
            ]
          },
          "metadata": {}
        }
      ]
    },
    {
      "cell_type": "markdown",
      "source": [
        "# Finding similar documents using doc2vec"
      ],
      "metadata": {
        "id": "odaVup_M4NQS"
      }
    },
    {
      "cell_type": "code",
      "source": [
        "import warnings\n",
        "warnings.filterwarnings('ignore')\n",
        "\n",
        "import os\n",
        "import gensim\n",
        "from gensim.models.doc2vec import TaggedDocument\n",
        "\n",
        "from nltk import RegexpTokenizer\n",
        "from nltk.corpus import stopwords\n",
        "\n",
        "tokenizer = RegexpTokenizer(r'\\w+')\n",
        "stopWords = set(stopwords.words('english'))"
      ],
      "metadata": {
        "id": "mEewpQB87xcQ"
      },
      "execution_count": 41,
      "outputs": []
    },
    {
      "cell_type": "code",
      "source": [
        "import zipfile\n",
        "with zipfile.ZipFile('news_dataset.zip', 'r') as zip_ref:\n",
        "    zip_ref.extractall('data/')"
      ],
      "metadata": {
        "id": "I94SLXGj7zq3"
      },
      "execution_count": 42,
      "outputs": []
    },
    {
      "cell_type": "code",
      "source": [
        "docLabels = []\n",
        "docLabels = [f for f in os.listdir('data/news_dataset') if f.endswith('.txt')]\n",
        "\n",
        "data = []\n",
        "\n",
        "for doc in docLabels:\n",
        "  with open('data/news_dataset/'+doc, 'rb') as f:\n",
        "    data.append(f.read())"
      ],
      "metadata": {
        "id": "-UZO-55O8SOZ"
      },
      "execution_count": 43,
      "outputs": []
    },
    {
      "cell_type": "code",
      "source": [
        "docLabels[:5]"
      ],
      "metadata": {
        "colab": {
          "base_uri": "https://localhost:8080/"
        },
        "id": "eWQ5NQsq8XC0",
        "outputId": "dcd85255-7930-4279-bc6f-5f012fa019ea"
      },
      "execution_count": 44,
      "outputs": [
        {
          "output_type": "execute_result",
          "data": {
            "text/plain": [
              "['Science_201.txt',\n",
              " 'Electronics_663.txt',\n",
              " 'Politics_494.txt',\n",
              " 'Sports_618.txt',\n",
              " 'Politics_993.txt']"
            ]
          },
          "metadata": {},
          "execution_count": 44
        }
      ]
    },
    {
      "cell_type": "code",
      "source": [
        "class DocIterator(object):\n",
        "  def __init__(self,doc_list,labels_list):\n",
        "    self.labels_list=labels_list\n",
        "    self.doc_list = doc_list\n",
        "\n",
        "  def __iter__(self):\n",
        "    for idx, doc in enumerate(self.doc_list):\n",
        "      yield TaggedDocument(words=doc.split(), tags = [self.labels_list[idx]])"
      ],
      "metadata": {
        "id": "6FfQZcca8Yt2"
      },
      "execution_count": 45,
      "outputs": []
    },
    {
      "cell_type": "code",
      "source": [
        "it = DocIterator(data, docLabels)"
      ],
      "metadata": {
        "id": "VxciOQWN8buH"
      },
      "execution_count": 46,
      "outputs": []
    },
    {
      "cell_type": "code",
      "source": [
        "size = 100\n",
        "alpha = 0.025\n",
        "min_alpha = 0.025\n",
        "dm = 1\n",
        "min_count = 1"
      ],
      "metadata": {
        "id": "FRhifpCt8dYu"
      },
      "execution_count": 47,
      "outputs": []
    },
    {
      "cell_type": "code",
      "source": [
        "model = gensim.models.Doc2Vec(vector_size=size, min_count=min_count, alpha=alpha, min_alpha=min_alpha, dm=dm,epochs=100)\n",
        "model.build_vocab(it)"
      ],
      "metadata": {
        "id": "TWgi6_p78e_0"
      },
      "execution_count": 48,
      "outputs": []
    },
    {
      "cell_type": "code",
      "source": [
        "model.train(it,total_examples=4000,epochs=model.epochs)\n",
        "model.alpha -= 0.002\n",
        "model.min_alpha = model.alpha"
      ],
      "metadata": {
        "id": "-_HcrBH38iXE"
      },
      "execution_count": 49,
      "outputs": []
    },
    {
      "cell_type": "code",
      "source": [
        "model.save('model/doc2vec.model')"
      ],
      "metadata": {
        "id": "_HaPTxoo8l05"
      },
      "execution_count": 50,
      "outputs": []
    },
    {
      "cell_type": "code",
      "source": [
        "d2v_model = gensim.models.doc2vec.Doc2Vec.load('model/doc2vec.model')"
      ],
      "metadata": {
        "id": "eye-dHEN8onZ"
      },
      "execution_count": 51,
      "outputs": []
    },
    {
      "cell_type": "code",
      "source": [
        "model.docvecs.most_similar('Electronics_724.txt')"
      ],
      "metadata": {
        "colab": {
          "base_uri": "https://localhost:8080/"
        },
        "id": "fOWpp8e_8rlw",
        "outputId": "17fff610-1621-4005-9317-9d6a63a6f80e"
      },
      "execution_count": 52,
      "outputs": [
        {
          "output_type": "execute_result",
          "data": {
            "text/plain": [
              "[('Electronics_407.txt', 0.9032192230224609),\n",
              " ('Electronics_726.txt', 0.8222894072532654),\n",
              " ('Sports_568.txt', 0.6805419921875),\n",
              " ('Electronics_118.txt', 0.6625266671180725),\n",
              " ('Electronics_381.txt', 0.658320963382721),\n",
              " ('Electronics_967.txt', 0.6569585204124451),\n",
              " ('Electronics_379.txt', 0.6534062623977661),\n",
              " ('Electronics_631.txt', 0.6446444392204285),\n",
              " ('Electronics_64.txt', 0.6442915797233582),\n",
              " ('Electronics_19.txt', 0.6382589340209961)]"
            ]
          },
          "metadata": {},
          "execution_count": 52
        }
      ]
    }
  ]
}