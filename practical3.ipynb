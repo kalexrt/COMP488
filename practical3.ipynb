{
  "nbformat": 4,
  "nbformat_minor": 0,
  "metadata": {
    "colab": {
      "provenance": []
    },
    "kernelspec": {
      "name": "python3",
      "display_name": "Python 3"
    },
    "language_info": {
      "name": "python"
    }
  },
  "cells": [
    {
      "cell_type": "markdown",
      "source": [
        "## Performing gradient descent in regression\n"
      ],
      "metadata": {
        "id": "rSpfuwB8Vcaa"
      }
    },
    {
      "cell_type": "code",
      "execution_count": 1,
      "metadata": {
        "id": "9oAMQs47DT87"
      },
      "outputs": [],
      "source": [
        "import warnings\n",
        "warnings.filterwarnings('ignore')\n",
        "import random\n",
        "import math\n",
        "import numpy as np\n",
        "from matplotlib import pyplot as plt\n",
        "%matplotlib inline"
      ]
    },
    {
      "cell_type": "code",
      "source": [
        "data = np.random.randn(500, 2)"
      ],
      "metadata": {
        "id": "6XQM1fiNMPEf"
      },
      "execution_count": 2,
      "outputs": []
    },
    {
      "cell_type": "code",
      "source": [
        "print(data[0])"
      ],
      "metadata": {
        "colab": {
          "base_uri": "https://localhost:8080/"
        },
        "id": "5lDSLElkMrGq",
        "outputId": "2bd30c7a-250c-402f-f402-3290c7944423"
      },
      "execution_count": 15,
      "outputs": [
        {
          "output_type": "stream",
          "name": "stdout",
          "text": [
            "[0.69194531 0.04349838]\n"
          ]
        }
      ]
    },
    {
      "cell_type": "code",
      "source": [
        "print(data[0,0])\n"
      ],
      "metadata": {
        "colab": {
          "base_uri": "https://localhost:8080/"
        },
        "id": "KJdt29qYM8li",
        "outputId": "b32d31af-ae4f-49be-cfd1-6fd53d8b03be"
      },
      "execution_count": 14,
      "outputs": [
        {
          "output_type": "stream",
          "name": "stdout",
          "text": [
            "0.6919453093067194\n"
          ]
        }
      ]
    },
    {
      "cell_type": "code",
      "source": [
        "print(data[0,1])"
      ],
      "metadata": {
        "colab": {
          "base_uri": "https://localhost:8080/"
        },
        "id": "02k0pqQ7NAPF",
        "outputId": "340ff959-f99d-45f4-801a-630f6254c0a6"
      },
      "execution_count": 9,
      "outputs": [
        {
          "output_type": "stream",
          "name": "stdout",
          "text": [
            "0.04349838362157686\n"
          ]
        }
      ]
    },
    {
      "cell_type": "code",
      "source": [
        "theta = np.zeros(2)\n",
        "print(theta)"
      ],
      "metadata": {
        "colab": {
          "base_uri": "https://localhost:8080/"
        },
        "id": "VLsnqcbRNV-g",
        "outputId": "b451be9c-c821-4f65-c01d-e8b698ad95d3"
      },
      "execution_count": 17,
      "outputs": [
        {
          "output_type": "stream",
          "name": "stdout",
          "text": [
            "[0. 0.]\n"
          ]
        }
      ]
    },
    {
      "cell_type": "code",
      "source": [
        "def loss_function(data,theta):\n",
        "  m = theta[0]\n",
        "  b = theta[1]\n",
        "  loss = 0\n",
        "  for i in range(0, len(data)):\n",
        "    x = data[i, 0]\n",
        "    y = data[i, 1]\n",
        "\n",
        "    y_hat = (m*x + b)\n",
        "\n",
        "    loss = loss + ((y - (y_hat)) ** 2)\n",
        "\n",
        "  mse = loss / float(len(data))\n",
        "  return mse"
      ],
      "metadata": {
        "id": "O1gqs6UqNdtm"
      },
      "execution_count": 20,
      "outputs": []
    },
    {
      "cell_type": "code",
      "source": [
        "loss_function(data, theta)"
      ],
      "metadata": {
        "colab": {
          "base_uri": "https://localhost:8080/"
        },
        "id": "SAHB8dpsPW7H",
        "outputId": "19bf9062-a3b2-4bd8-be41-3bf8e36ad20f"
      },
      "execution_count": 21,
      "outputs": [
        {
          "output_type": "execute_result",
          "data": {
            "text/plain": [
              "1.0516253917905247"
            ]
          },
          "metadata": {},
          "execution_count": 21
        }
      ]
    },
    {
      "cell_type": "code",
      "source": [
        "def compute_gradients(data, theta):\n",
        "  gradients = np.zeros(2)\n",
        "  N = float(len(data))\n",
        "  m = theta[0]\n",
        "  b = theta[1]\n",
        "\n",
        "  for i in range(0, len(data)):\n",
        "    x = data[i, 0]\n",
        "    y = data[i, 1]\n",
        "    gradients[0] += - (2 / N) * x * (y - (( m* x) + b))\n",
        "    gradients[1] += - (2 / N) * (y - ((theta[0] * x) + b))\n",
        "\n",
        "  epsilon = 1e-6\n",
        "  gradients = np.divide(gradients, N + epsilon)\n",
        "  return gradients"
      ],
      "metadata": {
        "id": "6nfXbniZP813"
      },
      "execution_count": 23,
      "outputs": []
    },
    {
      "cell_type": "code",
      "source": [
        "compute_gradients(data,theta)"
      ],
      "metadata": {
        "colab": {
          "base_uri": "https://localhost:8080/"
        },
        "id": "wpzV6TH4UfB6",
        "outputId": "7dc36206-9115-43e7-e0d6-14480c3a9063"
      },
      "execution_count": 24,
      "outputs": [
        {
          "output_type": "execute_result",
          "data": {
            "text/plain": [
              "array([6.81499004e-06, 8.47142844e-05])"
            ]
          },
          "metadata": {},
          "execution_count": 24
        }
      ]
    },
    {
      "cell_type": "code",
      "source": [
        "num_iterations = 50000\n",
        "loss = []\n",
        "lr = 1e-2"
      ],
      "metadata": {
        "id": "unFHq-1pUkTk"
      },
      "execution_count": 26,
      "outputs": []
    },
    {
      "cell_type": "code",
      "source": [
        "for t in range(num_iterations):\n",
        "\n",
        "  #compute gradients\n",
        "  gradients = compute_gradients(data, theta)\n",
        "\n",
        "  #update parameter\n",
        "  theta = theta - (lr*gradients)\n",
        "\n",
        "  #store the loss\n",
        "  loss.append(loss_function(data,theta))"
      ],
      "metadata": {
        "id": "8V1TXKjvVJRk"
      },
      "execution_count": 27,
      "outputs": []
    },
    {
      "cell_type": "code",
      "source": [
        "plt.plot(loss)\n",
        "plt.grid()\n",
        "plt.xlabel('Training Iterations')\n",
        "plt.ylabel('Cost')\n",
        "plt.title('Gradient Descent')"
      ],
      "metadata": {
        "colab": {
          "base_uri": "https://localhost:8080/",
          "height": 489
        },
        "id": "Gf6ounZWVZK6",
        "outputId": "d0470aa5-5564-4204-8f58-e29dfc56a8f0"
      },
      "execution_count": 28,
      "outputs": [
        {
          "output_type": "execute_result",
          "data": {
            "text/plain": [
              "Text(0.5, 1.0, 'Gradient Descent')"
            ]
          },
          "metadata": {},
          "execution_count": 28
        },
        {
          "output_type": "display_data",
          "data": {
            "text/plain": [
              "<Figure size 640x480 with 1 Axes>"
            ],
            "image/png": "[encoded data removed]"
          },
          "metadata": {}
        }
      ]
    },
    {
      "cell_type": "markdown",
      "source": [
        "## Gradient descent versus stochastic gradient descent\n"
      ],
      "metadata": {
        "id": "9mSHRXfUVp5a"
      }
    },
    {
      "cell_type": "code",
      "source": [
        "def minibatch(data, theta, lr = 1e-2, minibatch_ratio = 0.01, num_iterations = 1000):\n",
        "\n",
        "  minibatch_size = int(math.ceil(len(data) * minibatch_ratio))\n",
        "\n",
        "  for t in range(num_iterations):\n",
        "    sample_size = random.sample(range(len(data)), minibatch_size)\n",
        "    np.random.shuffle(data)\n",
        "\n",
        "    sample_data = data[0:sample_size[0], :]\n",
        "\n",
        "    grad = compute_gradients(sample_data, theta)\n",
        "    theta = theta - (lr * grad)\n",
        "\n",
        "  return theta"
      ],
      "metadata": {
        "id": "MNrUUlnIYXu_"
      },
      "execution_count": 30,
      "outputs": []
    },
    {
      "cell_type": "markdown",
      "source": [
        "## Momentum based gradient descent"
      ],
      "metadata": {
        "id": "hESRxv_EZOxQ"
      }
    },
    {
      "cell_type": "code",
      "source": [
        "def momentum(data, theta, lr = 1e-2, gamma = 0.9, num_iterations = 1000):\n",
        "  vt = np.zeros(theta.shape[0])\n",
        "\n",
        "  for t in range(num_iterations):\n",
        "    gradients = compute_gradients(data, theta)\n",
        "    vt = gamma * vt + lr * gradients\n",
        "    theta = theta - vt\n",
        "\n",
        "  return theta"
      ],
      "metadata": {
        "id": "W9Tg2PzDZS32"
      },
      "execution_count": 32,
      "outputs": []
    },
    {
      "cell_type": "markdown",
      "source": [
        "## Nesterov accelerated gradient"
      ],
      "metadata": {
        "id": "VcwX56EDaTes"
      }
    },
    {
      "cell_type": "code",
      "source": [
        "def NAG(data, theta, lr = 1e-2, gamma = 0.9, num_iterations = 1000):\n",
        "  vt = np.zeros(theta.shape[0])\n",
        "\n",
        "  for t in range(num_iterations):\n",
        "    gradients = compute_gradients(data, theta - gamma * vt)\n",
        "    vt = gamma * vt + lr * gradients\n",
        "    theta = theta - vt\n",
        "\n",
        "  return theta"
      ],
      "metadata": {
        "id": "gIK74I4PaVd-"
      },
      "execution_count": 33,
      "outputs": []
    },
    {
      "cell_type": "markdown",
      "source": [
        "## Adaptive method of gradient descent"
      ],
      "metadata": {
        "id": "3jjplce9aroS"
      }
    },
    {
      "cell_type": "code",
      "source": [
        "def AdaGrad(data, theta, lr = 1e-2, epsilon = 1e-8, num_iterations = 10000):\n",
        "  gradients_sum = np.zeros(theta.shape[0])\n",
        "\n",
        "  for t in range(num_iterations):\n",
        "    gradients = compute_gradients(data, theta)\n",
        "    gradients_sum += gradients ** 2\n",
        "    gradient_update = gradients / (np.sqrt(gradients_sum + epsilon))\n",
        "    theta = theta - (lr * gradient_update)\n",
        "\n",
        "  return theta"
      ],
      "metadata": {
        "id": "pz4Zm3qLaq-v"
      },
      "execution_count": 34,
      "outputs": []
    }
  ]
}