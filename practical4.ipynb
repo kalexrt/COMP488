{
  "nbformat": 4,
  "nbformat_minor": 0,
  "metadata": {
    "colab": {
      "provenance": []
    },
    "kernelspec": {
      "name": "python3",
      "display_name": "Python 3"
    },
    "language_info": {
      "name": "python"
    }
  },
  "cells": [
    {
      "cell_type": "markdown",
      "source": [
        "## Forward Propagation in RNNs"
      ],
      "metadata": {
        "id": "K377dCiFBDlp"
      }
    },
    {
      "cell_type": "code",
      "source": [
        "import numpy as np\n",
        "import tensorflow as tf\n",
        "import math\n",
        "import random"
      ],
      "metadata": {
        "id": "4gSDsb_hBTm1"
      },
      "execution_count": 1,
      "outputs": []
    },
    {
      "cell_type": "code",
      "source": [
        "input_dim = 7\n",
        "hidden_dim = 7\n",
        "output_dim = 7"
      ],
      "metadata": {
        "id": "8bwVH5-iCoBV"
      },
      "execution_count": 2,
      "outputs": []
    },
    {
      "cell_type": "code",
      "source": [
        "U = np.random.uniform(-np.sqrt(1.0 / input_dim), np.sqrt(1.0 / input_dim), (hidden_dim, input_dim))\n",
        "W = np.random.uniform(-np.sqrt(1.0 / hidden_dim), np.sqrt(1.0 / hidden_dim), (hidden_dim, hidden_dim))\n",
        "V = np.random.uniform(-np.sqrt(1.0 / hidden_dim), np.sqrt(1.0 / hidden_dim), (input_dim, hidden_dim))"
      ],
      "metadata": {
        "id": "Ja2QG2hCBg03"
      },
      "execution_count": 3,
      "outputs": []
    },
    {
      "cell_type": "code",
      "source": [
        "x =[0,1]"
      ],
      "metadata": {
        "id": "F9AJWAiDCyXK"
      },
      "execution_count": 4,
      "outputs": []
    },
    {
      "cell_type": "code",
      "source": [
        "num_time_steps = len(x)\n"
      ],
      "metadata": {
        "id": "zjlVl92oDMYz"
      },
      "execution_count": 5,
      "outputs": []
    },
    {
      "cell_type": "code",
      "source": [
        "hidden_state = np.zeros((num_time_steps + 1, hidden_dim))"
      ],
      "metadata": {
        "id": "4mClXA9UDP5G"
      },
      "execution_count": 6,
      "outputs": []
    },
    {
      "cell_type": "code",
      "source": [
        "hidden_state[-1] = np.zeros(hidden_dim)"
      ],
      "metadata": {
        "id": "1WsJ7LfCDTIa"
      },
      "execution_count": 7,
      "outputs": []
    },
    {
      "cell_type": "code",
      "source": [
        "YHat = np.zeros((num_time_steps, output_dim))"
      ],
      "metadata": {
        "id": "HMvDZaGvDWqz"
      },
      "execution_count": 8,
      "outputs": []
    },
    {
      "cell_type": "code",
      "source": [
        "def softmax(x):\n",
        "  return np.exp(x) / np.exp(x).sum(axis=0)"
      ],
      "metadata": {
        "id": "bY3FDWLFDqw3"
      },
      "execution_count": 9,
      "outputs": []
    },
    {
      "cell_type": "code",
      "source": [
        "for t in np.arange(num_time_steps):\n",
        "  #h_t = tanh(UX + Wh_{t-1})\n",
        "  hidden_state[t] = np.tanh(U[:, x[t]] + W.dot(hidden_state[t - 1]))\n",
        "  # yhat_t = softmax(vh)\n",
        "  YHat[t] = softmax(V.dot(hidden_state[t]))"
      ],
      "metadata": {
        "id": "4P8739-yDfcW"
      },
      "execution_count": 10,
      "outputs": []
    },
    {
      "cell_type": "markdown",
      "source": [
        "## Generating Somg lyrics using RNN"
      ],
      "metadata": {
        "id": "aP8CBvIzD-fC"
      }
    },
    {
      "cell_type": "code",
      "source": [
        "import warnings\n",
        "warnings.filterwarnings('ignore')\n",
        "\n",
        "import random\n",
        "import numpy as np\n",
        "import tensorflow as tf\n",
        "import pandas as pd\n",
        "\n",
        "import logging\n",
        "logging.getLogger(\"tensorflow\").setLevel(logging.ERROR)\n",
        "\n",
        "import warnings\n",
        "warnings.filterwarnings('ignore')"
      ],
      "metadata": {
        "id": "0bb-HPvuEEGg"
      },
      "execution_count": 11,
      "outputs": []
    },
    {
      "cell_type": "code",
      "source": [
        "df = pd.read_csv('/content/data/songdata.csv')"
      ],
      "metadata": {
        "id": "MO2AWqESEv_d"
      },
      "execution_count": 12,
      "outputs": []
    },
    {
      "cell_type": "code",
      "source": [
        "df.head()"
      ],
      "metadata": {
        "colab": {
          "base_uri": "https://localhost:8080/",
          "height": 206
        },
        "id": "86r7OJlIIxIS",
        "outputId": "fd43fd0e-df43-43ed-8536-78b5fc575a3e"
      },
      "execution_count": 13,
      "outputs": [
        {
          "output_type": "execute_result",
          "data": {
            "text/plain": [
              "  artist                   song                                        link  \\\n",
              "0   ABBA  Ahe's My Kind Of Girl  /a/abba/ahes+my+kind+of+girl_20598417.html   \n",
              "1   ABBA       Andante, Andante       /a/abba/andante+andante_20002708.html   \n",
              "2   ABBA         As Good As New        /a/abba/as+good+as+new_20003033.html   \n",
              "3   ABBA                   Bang                  /a/abba/bang_20598415.html   \n",
              "4   ABBA       Bang-A-Boomerang      /a/abba/bang+a+boomerang_20002668.html   \n",
              "\n",
              "                                                text  \n",
              "0  Look at her face, it's a wonderful face  \\nAnd...  \n",
              "1  Take it easy with me, please  \\nTouch me gentl...  \n",
              "2  I'll never know why I had to go  \\nWhy I had t...  \n",
              "3  Making somebody happy is a question of give an...  \n",
              "4  Making somebody happy is a question of give an...  "
            ],
            "text/html": [
              "\n",
              "  <div id=\"df-83be7469-da9b-4e48-bfcd-372ba0a4096e\" class=\"colab-df-container\">\n",
              "    <div>\n",
              "<style scoped>\n",
              "    .dataframe tbody tr th:only-of-type {\n",
              "        vertical-align: middle;\n",
              "    }\n",
              "\n",
              "    .dataframe tbody tr th {\n",
              "        vertical-align: top;\n",
              "    }\n",
              "\n",
              "    .dataframe thead th {\n",
              "        text-align: right;\n",
              "    }\n",
              "</style>\n",
              "<table border=\"1\" class=\"dataframe\">\n",
              "  <thead>\n",
              "    <tr style=\"text-align: right;\">\n",
              "      <th></th>\n",
              "      <th>artist</th>\n",
              "      <th>song</th>\n",
              "      <th>link</th>\n",
              "      <th>text</th>\n",
              "    </tr>\n",
              "  </thead>\n",
              "  <tbody>\n",
              "    <tr>\n",
              "      <th>0</th>\n",
              "      <td>ABBA</td>\n",
              "      <td>Ahe's My Kind Of Girl</td>\n",
              "      <td>/a/abba/ahes+my+kind+of+girl_20598417.html</td>\n",
              "      <td>Look at her face, it's a wonderful face  \\nAnd...</td>\n",
              "    </tr>\n",
              "    <tr>\n",
              "      <th>1</th>\n",
              "      <td>ABBA</td>\n",
              "      <td>Andante, Andante</td>\n",
              "      <td>/a/abba/andante+andante_20002708.html</td>\n",
              "      <td>Take it easy with me, please  \\nTouch me gentl...</td>\n",
              "    </tr>\n",
              "    <tr>\n",
              "      <th>2</th>\n",
              "      <td>ABBA</td>\n",
              "      <td>As Good As New</td>\n",
              "      <td>/a/abba/as+good+as+new_20003033.html</td>\n",
              "      <td>I'll never know why I had to go  \\nWhy I had t...</td>\n",
              "    </tr>\n",
              "    <tr>\n",
              "      <th>3</th>\n",
              "      <td>ABBA</td>\n",
              "      <td>Bang</td>\n",
              "      <td>/a/abba/bang_20598415.html</td>\n",
              "      <td>Making somebody happy is a question of give an...</td>\n",
              "    </tr>\n",
              "    <tr>\n",
              "      <th>4</th>\n",
              "      <td>ABBA</td>\n",
              "      <td>Bang-A-Boomerang</td>\n",
              "      <td>/a/abba/bang+a+boomerang_20002668.html</td>\n",
              "      <td>Making somebody happy is a question of give an...</td>\n",
              "    </tr>\n",
              "  </tbody>\n",
              "</table>\n",
              "</div>\n",
              "    <div class=\"colab-df-buttons\">\n",
              "\n",
              "  <div class=\"colab-df-container\">\n",
              "    <button class=\"colab-df-convert\" onclick=\"convertToInteractive('df-83be7469-da9b-4e48-bfcd-372ba0a4096e')\"\n",
              "            title=\"Convert this dataframe to an interactive table.\"\n",
              "            style=\"display:none;\">\n",
              "\n",
              "  <svg xmlns=\"http://www.w3.org/2000/svg\" height=\"24px\" viewBox=\"0 -960 960 960\">\n",
              "    <path d=\"M120-120v-720h720v720H120Zm60-500h600v-160H180v160Zm220 220h160v-160H400v160Zm0 220h160v-160H400v160ZM180-400h160v-160H180v160Zm440 0h160v-160H620v160ZM180-180h160v-160H180v160Zm440 0h160v-160H620v160Z\"/>\n",
              "  </svg>\n",
              "    </button>\n",
              "\n",
              "  <style>\n",
              "    .colab-df-container {\n",
              "      display:flex;\n",
              "      gap: 12px;\n",
              "    }\n",
              "\n",
              "    .colab-df-convert {\n",
              "      background-color: #E8F0FE;\n",
              "      border: none;\n",
              "      border-radius: 50%;\n",
              "      cursor: pointer;\n",
              "      display: none;\n",
              "      fill: #1967D2;\n",
              "      height: 32px;\n",
              "      padding: 0 0 0 0;\n",
              "      width: 32px;\n",
              "    }\n",
              "\n",
              "    .colab-df-convert:hover {\n",
              "      background-color: #E2EBFA;\n",
              "      box-shadow: 0px 1px 2px rgba(60, 64, 67, 0.3), 0px 1px 3px 1px rgba(60, 64, 67, 0.15);\n",
              "      fill: #174EA6;\n",
              "    }\n",
              "\n",
              "    .colab-df-buttons div {\n",
              "      margin-bottom: 4px;\n",
              "    }\n",
              "\n",
              "    [theme=dark] .colab-df-convert {\n",
              "      background-color: #3B4455;\n",
              "      fill: #D2E3FC;\n",
              "    }\n",
              "\n",
              "    [theme=dark] .colab-df-convert:hover {\n",
              "      background-color: #434B5C;\n",
              "      box-shadow: 0px 1px 3px 1px rgba(0, 0, 0, 0.15);\n",
              "      filter: drop-shadow(0px 1px 2px rgba(0, 0, 0, 0.3));\n",
              "      fill: #FFFFFF;\n",
              "    }\n",
              "  </style>\n",
              "\n",
              "    <script>\n",
              "      const buttonEl =\n",
              "        document.querySelector('#df-83be7469-da9b-4e48-bfcd-372ba0a4096e button.colab-df-convert');\n",
              "      buttonEl.style.display =\n",
              "        google.colab.kernel.accessAllowed ? 'block' : 'none';\n",
              "\n",
              "      async function convertToInteractive(key) {\n",
              "        const element = document.querySelector('#df-83be7469-da9b-4e48-bfcd-372ba0a4096e');\n",
              "        const dataTable =\n",
              "          await google.colab.kernel.invokeFunction('convertToInteractive',\n",
              "                                                    [key], {});\n",
              "        if (!dataTable) return;\n",
              "\n",
              "        const docLinkHtml = 'Like what you see? Visit the ' +\n",
              "          '<a target=\"_blank\" href=https://colab.research.google.com/notebooks/data_table.ipynb>data table notebook</a>'\n",
              "          + ' to learn more about interactive tables.';\n",
              "        element.innerHTML = '';\n",
              "        dataTable['output_type'] = 'display_data';\n",
              "        await google.colab.output.renderOutput(dataTable, element);\n",
              "        const docLink = document.createElement('div');\n",
              "        docLink.innerHTML = docLinkHtml;\n",
              "        element.appendChild(docLink);\n",
              "      }\n",
              "    </script>\n",
              "  </div>\n",
              "\n",
              "\n",
              "<div id=\"df-88112521-22d1-4a31-811f-e439c1708181\">\n",
              "  <button class=\"colab-df-quickchart\" onclick=\"quickchart('df-88112521-22d1-4a31-811f-e439c1708181')\"\n",
              "            title=\"Suggest charts.\"\n",
              "            style=\"display:none;\">\n",
              "\n",
              "<svg xmlns=\"http://www.w3.org/2000/svg\" height=\"24px\"viewBox=\"0 0 24 24\"\n",
              "     width=\"24px\">\n",
              "    <g>\n",
              "        <path d=\"M19 3H5c-1.1 0-2 .9-2 2v14c0 1.1.9 2 2 2h14c1.1 0 2-.9 2-2V5c0-1.1-.9-2-2-2zM9 17H7v-7h2v7zm4 0h-2V7h2v10zm4 0h-2v-4h2v4z\"/>\n",
              "    </g>\n",
              "</svg>\n",
              "  </button>\n",
              "\n",
              "<style>\n",
              "  .colab-df-quickchart {\n",
              "      --bg-color: #E8F0FE;\n",
              "      --fill-color: #1967D2;\n",
              "      --hover-bg-color: #E2EBFA;\n",
              "      --hover-fill-color: #174EA6;\n",
              "      --disabled-fill-color: #AAA;\n",
              "      --disabled-bg-color: #DDD;\n",
              "  }\n",
              "\n",
              "  [theme=dark] .colab-df-quickchart {\n",
              "      --bg-color: #3B4455;\n",
              "      --fill-color: #D2E3FC;\n",
              "      --hover-bg-color: #434B5C;\n",
              "      --hover-fill-color: #FFFFFF;\n",
              "      --disabled-bg-color: #3B4455;\n",
              "      --disabled-fill-color: #666;\n",
              "  }\n",
              "\n",
              "  .colab-df-quickchart {\n",
              "    background-color: var(--bg-color);\n",
              "    border: none;\n",
              "    border-radius: 50%;\n",
              "    cursor: pointer;\n",
              "    display: none;\n",
              "    fill: var(--fill-color);\n",
              "    height: 32px;\n",
              "    padding: 0;\n",
              "    width: 32px;\n",
              "  }\n",
              "\n",
              "  .colab-df-quickchart:hover {\n",
              "    background-color: var(--hover-bg-color);\n",
              "    box-shadow: 0 1px 2px rgba(60, 64, 67, 0.3), 0 1px 3px 1px rgba(60, 64, 67, 0.15);\n",
              "    fill: var(--button-hover-fill-color);\n",
              "  }\n",
              "\n",
              "  .colab-df-quickchart-complete:disabled,\n",
              "  .colab-df-quickchart-complete:disabled:hover {\n",
              "    background-color: var(--disabled-bg-color);\n",
              "    fill: var(--disabled-fill-color);\n",
              "    box-shadow: none;\n",
              "  }\n",
              "\n",
              "  .colab-df-spinner {\n",
              "    border: 2px solid var(--fill-color);\n",
              "    border-color: transparent;\n",
              "    border-bottom-color: var(--fill-color);\n",
              "    animation:\n",
              "      spin 1s steps(1) infinite;\n",
              "  }\n",
              "\n",
              "  @keyframes spin {\n",
              "    0% {\n",
              "      border-color: transparent;\n",
              "      border-bottom-color: var(--fill-color);\n",
              "      border-left-color: var(--fill-color);\n",
              "    }\n",
              "    20% {\n",
              "      border-color: transparent;\n",
              "      border-left-color: var(--fill-color);\n",
              "      border-top-color: var(--fill-color);\n",
              "    }\n",
              "    30% {\n",
              "      border-color: transparent;\n",
              "      border-left-color: var(--fill-color);\n",
              "      border-top-color: var(--fill-color);\n",
              "      border-right-color: var(--fill-color);\n",
              "    }\n",
              "    40% {\n",
              "      border-color: transparent;\n",
              "      border-right-color: var(--fill-color);\n",
              "      border-top-color: var(--fill-color);\n",
              "    }\n",
              "    60% {\n",
              "      border-color: transparent;\n",
              "      border-right-color: var(--fill-color);\n",
              "    }\n",
              "    80% {\n",
              "      border-color: transparent;\n",
              "      border-right-color: var(--fill-color);\n",
              "      border-bottom-color: var(--fill-color);\n",
              "    }\n",
              "    90% {\n",
              "      border-color: transparent;\n",
              "      border-bottom-color: var(--fill-color);\n",
              "    }\n",
              "  }\n",
              "</style>\n",
              "\n",
              "  <script>\n",
              "    async function quickchart(key) {\n",
              "      const quickchartButtonEl =\n",
              "        document.querySelector('#' + key + ' button');\n",
              "      quickchartButtonEl.disabled = true;  // To prevent multiple clicks.\n",
              "      quickchartButtonEl.classList.add('colab-df-spinner');\n",
              "      try {\n",
              "        const charts = await google.colab.kernel.invokeFunction(\n",
              "            'suggestCharts', [key], {});\n",
              "      } catch (error) {\n",
              "        console.error('Error during call to suggestCharts:', error);\n",
              "      }\n",
              "      quickchartButtonEl.classList.remove('colab-df-spinner');\n",
              "      quickchartButtonEl.classList.add('colab-df-quickchart-complete');\n",
              "    }\n",
              "    (() => {\n",
              "      let quickchartButtonEl =\n",
              "        document.querySelector('#df-88112521-22d1-4a31-811f-e439c1708181 button');\n",
              "      quickchartButtonEl.style.display =\n",
              "        google.colab.kernel.accessAllowed ? 'block' : 'none';\n",
              "    })();\n",
              "  </script>\n",
              "</div>\n",
              "    </div>\n",
              "  </div>\n"
            ]
          },
          "metadata": {},
          "execution_count": 13
        }
      ]
    },
    {
      "cell_type": "code",
      "source": [
        "df.shape[0]"
      ],
      "metadata": {
        "colab": {
          "base_uri": "https://localhost:8080/"
        },
        "id": "_lEECcenIzCj",
        "outputId": "3471af7e-29b4-4783-c5c5-91e8addaf883"
      },
      "execution_count": 14,
      "outputs": [
        {
          "output_type": "execute_result",
          "data": {
            "text/plain": [
              "57650"
            ]
          },
          "metadata": {},
          "execution_count": 14
        }
      ]
    },
    {
      "cell_type": "code",
      "source": [
        "len(df['artist'].unique())"
      ],
      "metadata": {
        "colab": {
          "base_uri": "https://localhost:8080/"
        },
        "id": "lgLLr-MgIzLi",
        "outputId": "e0ac7e8d-7993-4ff2-d691-1de1d1154cf4"
      },
      "execution_count": 15,
      "outputs": [
        {
          "output_type": "execute_result",
          "data": {
            "text/plain": [
              "643"
            ]
          },
          "metadata": {},
          "execution_count": 15
        }
      ]
    },
    {
      "cell_type": "code",
      "source": [
        "df['artist'].value_counts()[:10]"
      ],
      "metadata": {
        "colab": {
          "base_uri": "https://localhost:8080/"
        },
        "id": "WhVjjzVJIzTi",
        "outputId": "52730e24-eea3-4e29-dd45-289954d350e5"
      },
      "execution_count": 16,
      "outputs": [
        {
          "output_type": "execute_result",
          "data": {
            "text/plain": [
              "Donna Summer        191\n",
              "Gordon Lightfoot    189\n",
              "Bob Dylan           188\n",
              "George Strait       188\n",
              "Loretta Lynn        187\n",
              "Cher                187\n",
              "Alabama             187\n",
              "Reba Mcentire       187\n",
              "Chaka Khan          186\n",
              "Dean Martin         186\n",
              "Name: artist, dtype: int64"
            ]
          },
          "metadata": {},
          "execution_count": 16
        }
      ]
    },
    {
      "cell_type": "code",
      "source": [
        "df['artist'].value_counts().values.mean()"
      ],
      "metadata": {
        "colab": {
          "base_uri": "https://localhost:8080/"
        },
        "id": "WJZG_lkrI5mk",
        "outputId": "c12c789f-2972-4754-b7f2-80ea9a6b87b6"
      },
      "execution_count": 17,
      "outputs": [
        {
          "output_type": "execute_result",
          "data": {
            "text/plain": [
              "89.65785381026438"
            ]
          },
          "metadata": {},
          "execution_count": 17
        }
      ]
    },
    {
      "cell_type": "code",
      "source": [
        "data = ', '.join(df['text'])"
      ],
      "metadata": {
        "id": "7u7geHF2I5tO"
      },
      "execution_count": 18,
      "outputs": []
    },
    {
      "cell_type": "code",
      "source": [
        "data[:369]"
      ],
      "metadata": {
        "colab": {
          "base_uri": "https://localhost:8080/",
          "height": 70
        },
        "id": "mJ1hHaobI-bP",
        "outputId": "a84aff5d-2152-45a3-e215-54c251c18d8d"
      },
      "execution_count": 19,
      "outputs": [
        {
          "output_type": "execute_result",
          "data": {
            "text/plain": [
              "\"Look at her face, it's a wonderful face  \\nAnd it means something special to me  \\nLook at the way that she smiles when she sees me  \\nHow lucky can one fellow be?  \\n  \\nShe's just my kind of girl, she makes me feel fine  \\nWho could ever believe that she could be mine?  \\nShe's just my kind of girl, without her I'm blue  \\nAnd if she ever leaves me what could I do, what co\""
            ],
            "application/vnd.google.colaboratory.intrinsic+json": {
              "type": "string"
            }
          },
          "metadata": {},
          "execution_count": 19
        }
      ]
    },
    {
      "cell_type": "code",
      "source": [
        "chars = sorted(list(set(data)))"
      ],
      "metadata": {
        "id": "2TmJBn1zJAHY"
      },
      "execution_count": 20,
      "outputs": []
    },
    {
      "cell_type": "code",
      "source": [
        "vocab_size = len(chars)"
      ],
      "metadata": {
        "id": "hyxvCKm5JCM-"
      },
      "execution_count": 21,
      "outputs": []
    },
    {
      "cell_type": "code",
      "source": [
        "vocab_size"
      ],
      "metadata": {
        "colab": {
          "base_uri": "https://localhost:8080/"
        },
        "id": "j6cDCE9pFj20",
        "outputId": "85c344cf-ba09-4e49-ce24-5760a80d384e"
      },
      "execution_count": 22,
      "outputs": [
        {
          "output_type": "execute_result",
          "data": {
            "text/plain": [
              "76"
            ]
          },
          "metadata": {},
          "execution_count": 22
        }
      ]
    },
    {
      "cell_type": "code",
      "source": [
        "char_to_ix = {ch: i for i, ch in enumerate(chars)}\n",
        "ix_to_char = {i: ch for i, ch in enumerate(chars)}"
      ],
      "metadata": {
        "id": "ulKXkR-kJD6F"
      },
      "execution_count": 23,
      "outputs": []
    },
    {
      "cell_type": "code",
      "source": [
        "print(char_to_ix['s'])"
      ],
      "metadata": {
        "colab": {
          "base_uri": "https://localhost:8080/"
        },
        "id": "MDgZgBOMJHE-",
        "outputId": "8aed23c7-22cd-42ad-d213-5ce4a11d142e"
      },
      "execution_count": 24,
      "outputs": [
        {
          "output_type": "stream",
          "name": "stdout",
          "text": [
            "68\n"
          ]
        }
      ]
    },
    {
      "cell_type": "code",
      "source": [
        "print(ix_to_char[68])"
      ],
      "metadata": {
        "colab": {
          "base_uri": "https://localhost:8080/"
        },
        "id": "SzWgVRdkJJQ2",
        "outputId": "872acf53-a5cb-4234-9845-fdf5380d160c"
      },
      "execution_count": 25,
      "outputs": [
        {
          "output_type": "stream",
          "name": "stdout",
          "text": [
            "s\n"
          ]
        }
      ]
    },
    {
      "cell_type": "code",
      "source": [
        "vocabSize = 7\n",
        "char_index = 4\n",
        "print(np.eye(vocabSize)[char_index])\n"
      ],
      "metadata": {
        "colab": {
          "base_uri": "https://localhost:8080/"
        },
        "id": "QPMbC1LaJNNt",
        "outputId": "b9d6eeac-69dd-4c3d-cec8-aac9243d5405"
      },
      "execution_count": 26,
      "outputs": [
        {
          "output_type": "stream",
          "name": "stdout",
          "text": [
            "[0. 0. 0. 0. 1. 0. 0.]\n"
          ]
        }
      ]
    },
    {
      "cell_type": "code",
      "source": [
        "def one_hot_encoder(index):\n",
        "  return np.eye (vocab_size)[index]"
      ],
      "metadata": {
        "id": "EMguENi5JRTx"
      },
      "execution_count": 27,
      "outputs": []
    },
    {
      "cell_type": "code",
      "source": [
        "hidden_size = 100"
      ],
      "metadata": {
        "id": "SZNCpN3eJo9-"
      },
      "execution_count": 28,
      "outputs": []
    },
    {
      "cell_type": "code",
      "source": [
        "seq_length = 25\n",
        "learning_rate = 1e-1"
      ],
      "metadata": {
        "id": "ry9K8XLVJrDX"
      },
      "execution_count": 29,
      "outputs": []
    },
    {
      "cell_type": "code",
      "source": [
        "seed_value = 42\n",
        "tf.compat.v1.set_random_seed(seed_value)\n",
        "random.seed(seed_value)"
      ],
      "metadata": {
        "id": "jIdlQ3DXJvc5"
      },
      "execution_count": 30,
      "outputs": []
    },
    {
      "cell_type": "code",
      "source": [
        "tf.compat.v1.disable_eager_execution()\n",
        "inputs = tf.compat.v1.placeholder(shape=[None, vocab_size], dtype=tf.float32, name=\"inputs\")\n",
        "targets = tf.compat.v1.placeholder(shape=[None, vocab_size], dtype=tf.float32, name=\"targets\")\n"
      ],
      "metadata": {
        "id": "fxstChMBJzDH"
      },
      "execution_count": 31,
      "outputs": []
    },
    {
      "cell_type": "code",
      "source": [
        "init_state = tf.compat.v1.placeholder(shape=[1, hidden_size], dtype=tf.float32, name=\"state\")"
      ],
      "metadata": {
        "id": "9qskT-miJ2sR"
      },
      "execution_count": 32,
      "outputs": []
    },
    {
      "cell_type": "code",
      "source": [
        "initializer = tf.random_normal_initializer(stddev=0.1)"
      ],
      "metadata": {
        "id": "Sa4M_TQHJ6C0"
      },
      "execution_count": 33,
      "outputs": []
    },
    {
      "cell_type": "code",
      "execution_count": 34,
      "metadata": {
        "id": "dxxv7kdPNUTn"
      },
      "outputs": [],
      "source": [
        "with tf.compat.v1.variable_scope(\"RNN\") as scope:\n",
        "    h_t = init_state\n",
        "    y_hat = []\n",
        "\n",
        "    for t, x_t in enumerate(tf.split(inputs, seq_length, axis=0)):\n",
        "        if t > 0:\n",
        "            scope.reuse_variables()\n",
        "\n",
        "        #input to hidden layer weights\n",
        "        U = tf.compat.v1.get_variable(\"U\", [vocab_size, hidden_size], initializer=initializer)\n",
        "        #hidden to hidden layer weights\n",
        "        W = tf.compat.v1.get_variable(\"W\", [hidden_size, hidden_size], initializer=initializer)\n",
        "        #output to hidden layer weights\n",
        "        V = tf.compat.v1.get_variable(\"V\", [hidden_size, vocab_size], initializer=initializer)\n",
        "        #bias for hidden layer\n",
        "        bh = tf.compat.v1.get_variable(\"bh\", [hidden_size], initializer=initializer)\n",
        "        #bias for output layer\n",
        "        by = tf.compat.v1.get_variable(\"by\", [vocab_size], initializer=initializer)\n",
        "        h_t = tf.tanh(tf.matmul(x_t, U) + tf.matmul(h_t, W) + bh)\n",
        "        y_hat_t = tf.matmul(h_t, V) + by\n",
        "        y_hat.append(y_hat_t)"
      ]
    },
    {
      "cell_type": "code",
      "source": [
        "output_softmax = tf.nn.softmax(y_hat[-1])\n",
        "outputs = tf.concat(y_hat, axis=0)"
      ],
      "metadata": {
        "id": "QU1ZfQngSzsk"
      },
      "execution_count": 35,
      "outputs": []
    },
    {
      "cell_type": "code",
      "source": [
        "loss = tf.reduce_mean(tf.nn.softmax_cross_entropy_with_logits(labels=targets, logits=outputs))"
      ],
      "metadata": {
        "id": "XJ_92tNKS3Gp"
      },
      "execution_count": 36,
      "outputs": []
    },
    {
      "cell_type": "code",
      "source": [
        "hprev = h_t"
      ],
      "metadata": {
        "id": "VMhEVP7ZS5m_"
      },
      "execution_count": 37,
      "outputs": []
    },
    {
      "cell_type": "code",
      "source": [
        "minimizer = tf.compat.v1.train.AdamOptimizer()"
      ],
      "metadata": {
        "id": "5HnN3LAoTFIB"
      },
      "execution_count": 38,
      "outputs": []
    },
    {
      "cell_type": "code",
      "source": [
        "gradients = minimizer.compute_gradients(loss)"
      ],
      "metadata": {
        "id": "TrJOAcQKTY0A"
      },
      "execution_count": 39,
      "outputs": []
    },
    {
      "cell_type": "code",
      "source": [
        "threshold = tf.constant(5.0, name=\"grad_clipping\")"
      ],
      "metadata": {
        "id": "PM1JphSLTbO6"
      },
      "execution_count": 40,
      "outputs": []
    },
    {
      "cell_type": "code",
      "execution_count": 41,
      "metadata": {
        "id": "M1q_r4PzNUTr"
      },
      "outputs": [],
      "source": [
        "clipped_gradients = []\n",
        "for grad, var in gradients:\n",
        "    clipped_grad = tf.clip_by_value(grad, -threshold, threshold)\n",
        "    clipped_gradients.append((clipped_grad, var))"
      ]
    },
    {
      "cell_type": "code",
      "source": [
        "updated_gradients = minimizer.apply_gradients(clipped_gradients)"
      ],
      "metadata": {
        "id": "PQLNSP7xThAT"
      },
      "execution_count": 42,
      "outputs": []
    },
    {
      "cell_type": "code",
      "source": [
        "sess = tf.compat.v1.Session()\n",
        "init = tf.compat.v1.global_variables_initializer()\n",
        "sess.run(init)"
      ],
      "metadata": {
        "id": "2Z1xqnbNUhpV"
      },
      "execution_count": 43,
      "outputs": []
    },
    {
      "cell_type": "code",
      "source": [
        "pointer = 0\n",
        "iteration = 0"
      ],
      "metadata": {
        "id": "ionKJlwiUk32"
      },
      "execution_count": 44,
      "outputs": []
    },
    {
      "cell_type": "code",
      "execution_count": 45,
      "metadata": {
        "colab": {
          "base_uri": "https://localhost:8080/"
        },
        "id": "2c3DQaCuNUTx",
        "outputId": "78d8e430-1d2b-42ed-b1fa-5c6e1918e804"
      },
      "outputs": [
        {
          "output_type": "stream",
          "name": "stdout",
          "text": [
            "\n",
            "\n",
            " After 0 iterations\n",
            "\n",
            " r42]74[DMv6[Un4nCJ::mi9NEKHTv4?4VdarpZPZM'rJMKGKrKM]c6!g37MSQSKBzKz4!wguwn,JpG.froVn1x-zzLu?2\n",
            "HG0(Db'0AGt7W g\n",
            "yCLt-Xuw 03pB,ZY[ySP3D6I9Mc7ZqX6WJbS!0KCdHTD)i:tSqd9oycMga5hWlDowk)-NyZmGq(O!R[SAS(3adAsgFf,agTIFV(K,9fiZZDNu Uu?,?niQHOj'GyWxgPXf0,kPZWphQeEW7Mn)p!06sK,4 QzE'N9Bg)igiphgM:HKElVcGGRQE?ueD)LheMq9\"O6m?G,gwfTInplov8AVG2BXT5AmBt1K8]00rWx5FU\n",
            "(xZ1BHv[E0] \"9S,HmS-QalllS]'vIIUMVr31zkH36DT,9Wjl!pF8(vx!0Jy0D!FvnB?ug6?KPr95r)VtU]:b9bJML?GE9do\"WvtNXFe9Wjkr4Te96mz4fmQjJhPMHUW]YRxXscGkPP-oK)6[b8f9daMR \n",
            "\n",
            "-------------------------------------------------------------------------------------------------------------------\n",
            "\n",
            "\n",
            " After 5000 iterations\n",
            "\n",
            " n of te te wour tay, on the tuned sill habe  \n",
            "Thee s aasp tnithous \n",
            "And  \n",
            "Who  lane ay  \n",
            "The aop I fon the mistsine be -\n",
            "I'm sthe w on drodsthey, shite  \n",
            "I  che taldk por  \n",
            "I  heake on lele githe Coushes me it it de me tor came  \n",
            "I Fakndtsire  \n",
            "I m Iving t  \n",
            "I suge to s a plet eveeve ot lone, ot don't ou han  ie wy a ghet you daye  \n",
            "I cunk hone  \n",
            "Whon d bug-a, I fusleftteen you cas tage sancI mishind haverote on there  \n",
            "I ssevem yfut leat ar mpee po  \n",
            "Fangre mee tidee  \n",
            "I  \n",
            "I mingevery arome pe  \n",
            "\n",
            "-------------------------------------------------------------------------------------------------------------------\n",
            "\n",
            "\n",
            " After 10000 iterations\n",
            "\n",
            " rew me in the nabe, whatte bes anlecelle, ie a there I mosh, rume  \n",
            "I'me gitced aba he dottest  \n",
            "Stocknowe  \n",
            "Rime goods or hame\n",
            ", hought  \n",
            "Yer mers youm then by oukk \n",
            "Rad  \n",
            "His Sain)  \n",
            "Theak spef biby, tame, shelever cont shis list recha men  \n",
            "Thingh lo, mebre gre to youder my sor is there, you bedt ee....,  \n",
            "Yeghing by comy a moick,  \n",
            "Sheadken  hams samowe  \n",
            "Reakin'  \n",
            "I mom by the kides  \n",
            "Ranols of lellever no nuzd fuet shamee, whar mird?  \n",
            "Whasplled fere the sount I my, me axn tt ase thinkind  \n",
            "\n",
            "-------------------------------------------------------------------------------------------------------------------\n",
            "\n",
            "\n",
            " After 15000 iterations\n",
            "\n",
            "  it sa mo the bet asmy it arEd  \n",
            "Hcat when do  \n",
            "Lova Jutt tryo art to winen  \n",
            "Love as if to conet, it's night ist and be within that aDane, st ond to  \n",
            "And you trat loveay....... on. dat  \n",
            "To mp enow  \n",
            "I wiChares  \n",
            "Feeatrit as alove of shan thacking  \n",
            "Ffem bight ipan  \n",
            "I do  \n",
            "  \n",
            "And I jost wimitisn like wa hive  \n",
            "I live  \n",
            "Mest you talw  \n",
            "Im go  \n",
            "  \n",
            "Soret, be dorow, hoven y whot oppind  \n",
            "Thenowe honguch you crealon  \n",
            "An in make in thesets foy mesttak  \n",
            "Ond tf it ligetp brit de wilo.. so  \n",
            "  \n",
            "Atro \n",
            "\n",
            "-------------------------------------------------------------------------------------------------------------------\n",
            "\n",
            "\n",
            " After 20000 iterations\n",
            "\n",
            " love Chur I'm bare kit's make  \n",
            "Bain's on tha mu your bight yal take gor the magle  \n",
            "Teat, saired, upavin' anotlopbyes I my smielkn thed wills moke? is I han't yighw the stabl. I'rlin' shamill rece all I'm nabeen't rut nith? I'm knear stoig.p  \n",
            "We't's knus like so you  \n",
            "Resley in my uve'rin'thandm  \n",
            "But I runnin't'min' then by on light tought free know mind din't nearin't's shat me pantse like lingy cas loversss that you're ppee ary that's stiil... do beasec.  \n",
            "  \n",
            "Baby. on youer  \n",
            "Wefstaret that \n",
            "\n",
            "-------------------------------------------------------------------------------------------------------------------\n",
            "\n",
            "\n",
            " After 25000 iterations\n",
            "\n",
            "  \n",
            "  \n",
            "And woull  \n",
            "An reald you deal ba you con.  \n",
            "  \n",
            "Gard eving dow morr a I hered  \n",
            "  \n",
            "\n",
            "Frint cominging fickig und. Yeart acreal, you want  \n",
            "Le will dear sot a couzrefwreald, dyymy  \n",
            "Apdry sattec- syis my yeah you sour you close me wet  \n",
            "You Whall\n",
            "\n",
            ", I you loke\n",
            "\n",
            ", Heah, of the rore andedretler  \n",
            "  \n",
            "Gofs ellode to foo Juce feahe  \n",
            "Iw I'm the hat  \n",
            "  \n",
            "I'm stere  \n",
            "All so sene  \n",
            "Dightmong woll  \n",
            "  \n",
            "And paidsis lite  \n",
            "So Ncpilf  \n",
            "  \n",
            "Thour I dy saire sore toror'me geag, you cary down the side  \n",
            "He's t \n",
            "\n",
            "-------------------------------------------------------------------------------------------------------------------\n",
            "\n",
            "\n",
            " After 30000 iterations\n",
            "\n",
            " s\n",
            "  \n",
            "Hewaye my liver  \n",
            "\n",
            ", howw youm fart in spilld tile a day the onling  \n",
            "Goodbye nighty the goole  \n",
            "You the fallest can't have a tigning  \n",
            "Forturdny shander  \n",
            "For you reallind  \n",
            "They o firt on your thin'row  \n",
            "Thered wfor bover falt  \n",
            "Felen and yourodreas torech sbirens da mese dny love  ordona, here  \n",
            "Sooning grenn, foarbs  \n",
            "Hear  \n",
            "It's so myre-aw burning  \n",
            "Freestalleve croinet  \n",
            "The races you, younnears gorletborncons  \n",
            "Mutter a yourserrey, a fiefreen  \n",
            "You'll on  \n",
            "Heartresthing the strong  \n",
            " \n",
            "\n",
            "-------------------------------------------------------------------------------------------------------------------\n",
            "\n",
            "\n",
            " After 35000 iterations\n",
            "\n",
            "  all is like  \n",
            "Make in you metely pight pat atart gut love bittly pamte aboll pisten't he con't wow you dack like othingsh  \n",
            "  wayd oh they I'm train  \n",
            "On make pllitt seomed me ping name  \n",
            "We're I got in your heart dimy past  \n",
            "I never back thexpar)  \n",
            "Oonide  \n",
            "Paskisp  \n",
            "Soll a net time  \n",
            "  \n",
            "[Every live  \n",
            "Like you keep belk  \n",
            "Ooe 2]  \n",
            "Arda'cl  \n",
            "Aske's never thes like you knet fat lake lik to deeptt  \n",
            "Werd, the ppeatla)  \n",
            "Love when you upen thisk they goad like you dine  \n",
            "Way\n",
            " foo bave peeplien  \n",
            "T \n",
            "\n",
            "-------------------------------------------------------------------------------------------------------------------\n",
            "\n",
            "\n",
            " After 40000 iterations\n",
            "\n",
            " et tineling fen  \n",
            "We'be Charee  \n",
            "I nut the hi sturter to all Bah Yeah ane worad, I gut leantic fapce pint  \n",
            "Watdy ple's ounnabe that in a but when are con't to be aAde pasters conyee,  \n",
            "Thew weith oke I geit's ank ofran for shore the pinines Gpan  \n",
            "Anl I'll can stonad is parts on the dog will hurt fir on  \n",
            "Tround  \n",
            "I'm sade to a let me't no be parking  \n",
            "We've at you couldrou  \n",
            "I'm just noiknase pont  \n",
            "Wa dan this no to weams  \n",
            "And we waOting caricget are myeomt stey foo drot me  \n",
            "\"S SI'b gneeric \n",
            "\n",
            "-------------------------------------------------------------------------------------------------------------------\n",
            "\n",
            "\n",
            " After 45000 iterations\n",
            "\n",
            "  sunder  \n",
            "I a  \n",
            "I the onowo yeah you  \n",
            "  \n",
            "He's all that yeah yeah, for look to to make you ssie feee your tolight  \n",
            "  \n",
            "  \n",
            "Cimethore to know vea la pailfthing that alone,)  \n",
            "Shat I  \n",
            "I net see orow youry with  \n",
            "We ee\n",
            "\n",
            ", Rusten, I with I need  \n",
            "You gidrey goster wind your wirlfthe moct lyol you, that awawer your hate in tho ehey  \n",
            "Padry every girl, I lees you want  \n",
            "One drywous I am knom ropele it ele worde's acreah (Bismeal  \n",
            "Bether wrome nhe ome thal of toght  \n",
            "  \n",
            "[Chorus!.)\n",
            "\n",
            "I nee the owy no  \n",
            " \n",
            "\n",
            "-------------------------------------------------------------------------------------------------------------------\n",
            "\n",
            "\n",
            " After 50000 iterations\n",
            "\n",
            " [Edde-chily-]  \n",
            "Ene  \n",
            "[ trink your will I kaly and under ild dow is hike  \n",
            "Sone.  \n",
            "[Chrough ir upifo:  \n",
            "My needs mas s  \n",
            "[My night out, herce and surse:.  \n",
            "Singy-al be  \n",
            "Sp  \n",
            "Ffighe\"s mavion't a ftul or proupen om a\n",
            "\n",
            " and dis mat.  \n",
            "[Grir rraime to sing Ovaning  \n",
            "My have skreamoded of stien. La.  \n",
            "[Mby  \n",
            "Ye\n",
            "\n",
            ", Alencemss a Torllquss.  \n",
            "Mysy!:]  \n",
            "Pin everythat tile every mandeas.  \n",
            "[Wh, us caril braw  \n",
            "[Chrloueringe- \n",
            "[Hing it k.\n",
            "\n",
            ") FPys the stroughter,  \n",
            "Ald enah and droup!:  \n",
            "Ownithey.  \n",
            "[Dring  \n",
            "\n",
            "-------------------------------------------------------------------------------------------------------------------\n"
          ]
        }
      ],
      "source": [
        "while iteration < 50001:\n",
        "\n",
        "    if pointer + seq_length+1 >= len(data) or iteration == 0:\n",
        "        hprev_val = np.zeros([1, hidden_size])\n",
        "        pointer = 0\n",
        "\n",
        "    #select input sentence\n",
        "    input_sentence = data[pointer:pointer + seq_length]\n",
        "\n",
        "    #select output sentence\n",
        "    output_sentence = data[pointer + 1:pointer + seq_length + 1]\n",
        "\n",
        "    #get the indices of input and output sentence\n",
        "    input_indices = [char_to_ix[ch] for ch in input_sentence]\n",
        "    target_indices = [char_to_ix[ch] for ch in output_sentence]\n",
        "\n",
        "    #convert the input and output sentence to a one-hot encoded vectors with the help of their indices\n",
        "    input_vector = one_hot_encoder(input_indices)\n",
        "    target_vector = one_hot_encoder(target_indices)\n",
        "\n",
        "\n",
        "    #train the network and get the final hidden state\n",
        "    hprev_val, loss_val, _ = sess.run([hprev, loss, updated_gradients],\n",
        "                                      feed_dict={inputs: input_vector,targets: target_vector,init_state: hprev_val})\n",
        "\n",
        "\n",
        "    #make predictions on every 500th iteration\n",
        "    if iteration % 500 == 0:\n",
        "\n",
        "        #length of characters we want to predict\n",
        "        sample_length = 500\n",
        "\n",
        "        #randomly select index\n",
        "        random_index = random.randint(0, len(data) - seq_length)\n",
        "\n",
        "        #sample the input sentence with the randomly selected index\n",
        "        sample_input_sent = data[random_index:random_index + seq_length]\n",
        "\n",
        "        #get the indices of the sampled input sentence\n",
        "        sample_input_indices = [char_to_ix[ch] for ch in sample_input_sent]\n",
        "\n",
        "        #store the final hidden state in sample_prev_state_val\n",
        "        sample_prev_state_val = np.copy(hprev_val)\n",
        "\n",
        "        #for storing the indices of predicted characters\n",
        "        predicted_indices = []\n",
        "\n",
        "\n",
        "        for t in range(sample_length):\n",
        "\n",
        "            #convert the sampled input sentence into one-hot encoded vector using their indices\n",
        "            sample_input_vector = one_hot_encoder(sample_input_indices)\n",
        "\n",
        "            #compute the probability of all the words in the vocabulary to be the next character\n",
        "            probs_dist, sample_prev_state_val = sess.run([output_softmax, hprev],\n",
        "                                                      feed_dict={inputs: sample_input_vector,init_state: sample_prev_state_val})\n",
        "\n",
        "            #we randomly select the index with the probabilty distribtuion generated by the model\n",
        "            ix = np.random.choice(range(vocab_size), p=probs_dist.ravel())\n",
        "\n",
        "            sample_input_indices = sample_input_indices[1:] + [ix]\n",
        "\n",
        "\n",
        "            #store the predicted index in predicted_indices list\n",
        "            predicted_indices.append(ix)\n",
        "\n",
        "        #convert the predicted indices to their character\n",
        "        predicted_chars = [ix_to_char[ix] for ix in predicted_indices]\n",
        "\n",
        "        #combine the predcited characters\n",
        "        text = ''.join(predicted_chars)\n",
        "\n",
        "        #predict the predict text on every 50000th iteration\n",
        "        if iteration % 5000 == 0:\n",
        "            print ('\\n')\n",
        "            print (' After %d iterations' %(iteration))\n",
        "            print('\\n %s \\n' % (text,))\n",
        "            print('-'*115)\n",
        "\n",
        "\n",
        "    #increment the pointer and iteration\n",
        "    pointer += seq_length\n",
        "    iteration += 1"
      ]
    }
  ]
}