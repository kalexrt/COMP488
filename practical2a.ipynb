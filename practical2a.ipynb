{
  "nbformat": 4,
  "nbformat_minor": 0,
  "metadata": {
    "colab": {
      "provenance": []
    },
    "kernelspec": {
      "name": "python3",
      "display_name": "Python 3"
    },
    "language_info": {
      "name": "python"
    }
  },
  "cells": [
    {
      "cell_type": "markdown",
      "source": [
        "## Check installation of tensorflow"
      ],
      "metadata": {
        "id": "UPL9O6qa3TGd"
      }
    },
    {
      "cell_type": "code",
      "execution_count": null,
      "metadata": {
        "colab": {
          "base_uri": "https://localhost:8080/"
        },
        "id": "MBDAc9Ybvtx1",
        "outputId": "b357511b-3e61-4469-c590-b65e7d1aec68"
      },
      "outputs": [
        {
          "output_type": "stream",
          "name": "stdout",
          "text": [
            "b'Hello TensorFlow!'\n"
          ]
        }
      ],
      "source": [
        "import tensorflow as tf\n",
        "tf.compat.v1.disable_eager_execution()\n",
        "\n",
        "hello = tf.constant(\"Hello TensorFlow!\")\n",
        "sess = tf.compat.v1.Session()\n",
        "print(sess.run(hello))"
      ]
    },
    {
      "cell_type": "markdown",
      "source": [
        "## basic addition"
      ],
      "metadata": {
        "id": "OuM6WbEh3Y_g"
      }
    },
    {
      "cell_type": "code",
      "source": [
        "x = 2\n",
        "y = 3\n",
        "z = tf.add(x, y, name='Add')\n",
        "\n",
        "with tf.compat.v1.Session() as sess:\n",
        "    result = sess.run(z)\n",
        "    print(result)"
      ],
      "metadata": {
        "colab": {
          "base_uri": "https://localhost:8080/"
        },
        "id": "eX07Lgca1NVn",
        "outputId": "1b96c3de-8ee7-4181-a665-cf61ab633cd9"
      },
      "execution_count": null,
      "outputs": [
        {
          "output_type": "stream",
          "name": "stdout",
          "text": [
            "5\n"
          ]
        }
      ]
    },
    {
      "cell_type": "code",
      "source": [
        "a = tf.multiply(8,5)\n",
        "b = tf.multiply(a,1)\n",
        "\n",
        "with tf.compat.v1.Session() as sess:\n",
        "    result1 = sess.run(a)\n",
        "    result2 = sess.run(b)\n",
        "    print(result1)\n",
        "    print(result2)"
      ],
      "metadata": {
        "colab": {
          "base_uri": "https://localhost:8080/"
        },
        "id": "M1pvUDh81lbe",
        "outputId": "a4820f51-401e-4fe5-fbba-636826f5a2c3"
      },
      "execution_count": null,
      "outputs": [
        {
          "output_type": "stream",
          "name": "stdout",
          "text": [
            "40\n",
            "40\n"
          ]
        }
      ]
    },
    {
      "cell_type": "code",
      "source": [
        "a = tf.multiply(8,5)\n",
        "b = tf.multiply(4,3)\n",
        "\n",
        "with tf.compat.v1.Session() as sess:\n",
        "    result1 = sess.run(a)\n",
        "    result2 = sess.run(b)\n",
        "    print(result1)\n",
        "    print(result2)"
      ],
      "metadata": {
        "colab": {
          "base_uri": "https://localhost:8080/"
        },
        "id": "cDCIdfQ24Z6G",
        "outputId": "53e9d714-dbcd-4bb0-9797-c6a06bf85b4e"
      },
      "execution_count": null,
      "outputs": [
        {
          "output_type": "stream",
          "name": "stdout",
          "text": [
            "40\n",
            "12\n"
          ]
        }
      ]
    },
    {
      "cell_type": "code",
      "source": [
        "graph = tf.Graph()\n",
        "\n",
        "with graph.as_default():\n",
        "    z = tf.add(x, y, name='Add')\n",
        "\n",
        "tf.compat.v1.reset_default_graph()"
      ],
      "metadata": {
        "id": "NeKTm9Qf5OSg"
      },
      "execution_count": null,
      "outputs": []
    },
    {
      "cell_type": "markdown",
      "source": [
        "## Sessions"
      ],
      "metadata": {
        "id": "qNkVCndONY3u"
      }
    },
    {
      "cell_type": "code",
      "source": [
        "a = tf.multiply(3,3)\n",
        "print(a)\n"
      ],
      "metadata": {
        "colab": {
          "base_uri": "https://localhost:8080/"
        },
        "id": "-5FW5ef0NsWT",
        "outputId": "4f00c271-a59c-4752-d06d-278c565e5c15"
      },
      "execution_count": null,
      "outputs": [
        {
          "output_type": "stream",
          "name": "stdout",
          "text": [
            "Tensor(\"Mul_2:0\", shape=(), dtype=int32)\n"
          ]
        }
      ]
    },
    {
      "cell_type": "code",
      "source": [
        "a = tf.multiply(3,3)\n",
        "with tf.compat.v1.Session() as sess:\n",
        "    print(sess.run(a))"
      ],
      "metadata": {
        "colab": {
          "base_uri": "https://localhost:8080/"
        },
        "id": "xwH1WBoKNb2E",
        "outputId": "c5a90b93-956d-4988-cdaf-6842e883b8f3"
      },
      "execution_count": null,
      "outputs": [
        {
          "output_type": "stream",
          "name": "stdout",
          "text": [
            "9\n"
          ]
        }
      ]
    },
    {
      "cell_type": "markdown",
      "source": [
        "## Variables"
      ],
      "metadata": {
        "id": "Fy7z7oGXN2dp"
      }
    },
    {
      "cell_type": "code",
      "source": [
        "x = tf.Variable(13)\n",
        "W = tf.Variable(tf.random.normal([500, 111], stddev=0.35), name=\"weights\")\n"
      ],
      "metadata": {
        "id": "0_8POt9bNlYb"
      },
      "execution_count": null,
      "outputs": []
    },
    {
      "cell_type": "code",
      "source": [
        "x = tf.Variable(1212)\n",
        "init = tf.compat.v1.global_variables_initializer()\n",
        "with tf.compat.v1.Session() as sess:\n",
        "    sess.run(init)\n",
        "    print(sess.run(x))"
      ],
      "metadata": {
        "colab": {
          "base_uri": "https://localhost:8080/"
        },
        "id": "2mBjESPTn5wN",
        "outputId": "3e3ce95a-b6e3-4ecd-cff2-bdc9f4c8941b"
      },
      "execution_count": null,
      "outputs": [
        {
          "output_type": "stream",
          "name": "stdout",
          "text": [
            "1212\n"
          ]
        }
      ]
    },
    {
      "cell_type": "code",
      "source": [
        "with tf.compat.v1.variable_scope(\"scope\"):\n",
        "  a = tf.compat.v1.get_variable('x', [2])\n",
        "with tf.compat.v1.variable_scope(\"scope\", reuse = True):\n",
        "  b = tf.compat.v1.get_variable('x', [2])"
      ],
      "metadata": {
        "id": "UNgOKgRrRbUe"
      },
      "execution_count": null,
      "outputs": []
    },
    {
      "cell_type": "markdown",
      "source": [
        "## Constants"
      ],
      "metadata": {
        "id": "_jU-ET-JRmW3"
      }
    },
    {
      "cell_type": "code",
      "source": [
        "x = tf.constant(13)"
      ],
      "metadata": {
        "id": "I3SK8GRBRkFo"
      },
      "execution_count": null,
      "outputs": []
    },
    {
      "cell_type": "markdown",
      "source": [
        "## Placeholder"
      ],
      "metadata": {
        "id": "4J8ZbjzHRu3J"
      }
    },
    {
      "cell_type": "code",
      "source": [
        "with tf.compat.v1.Session() as sess:\n",
        "  x = tf.compat.v1.placeholder(\"float\", None)\n",
        "  y = x + 3\n",
        "  result = sess.run(y, feed_dict={x: 5})\n",
        "  print(result)"
      ],
      "metadata": {
        "colab": {
          "base_uri": "https://localhost:8080/"
        },
        "id": "aMsvfL0ORsPA",
        "outputId": "6b78b29a-0615-419b-8af7-36b60a573d49"
      },
      "execution_count": null,
      "outputs": [
        {
          "output_type": "stream",
          "name": "stdout",
          "text": [
            "8.0\n"
          ]
        }
      ]
    },
    {
      "cell_type": "code",
      "source": [
        "with tf.compat.v1.Session() as sess:\n",
        "  result = sess.run(y, feed_dict={x: [3,6,9]})\n",
        "  print(result)"
      ],
      "metadata": {
        "colab": {
          "base_uri": "https://localhost:8080/"
        },
        "id": "PGDEYuUNSMDg",
        "outputId": "ad79ecf2-ed6f-4355-d0ec-5c291870a004"
      },
      "execution_count": null,
      "outputs": [
        {
          "output_type": "stream",
          "name": "stdout",
          "text": [
            "[ 6.  9. 12.]\n"
          ]
        }
      ]
    },
    {
      "cell_type": "code",
      "source": [
        "with tf.compat.v1.Session() as sess:\n",
        "  x = tf.compat.v1.placeholder(\"float\", [None, 2])\n",
        "  y=x+3\n",
        "  x_val = [[1, 2,],\n",
        "            [3,4],\n",
        "            [5,6],\n",
        "            [7,8],]\n",
        "  result = sess.run(y, feed_dict={x: x_val})\n",
        "  print(result)\n",
        "\n"
      ],
      "metadata": {
        "colab": {
          "base_uri": "https://localhost:8080/"
        },
        "id": "NUVio89rSqyv",
        "outputId": "a05475ea-9906-4a58-a042-7cb7a8e6a262"
      },
      "execution_count": null,
      "outputs": [
        {
          "output_type": "stream",
          "name": "stdout",
          "text": [
            "[[ 4.  5.]\n",
            " [ 6.  7.]\n",
            " [ 8.  9.]\n",
            " [10. 11.]]\n"
          ]
        }
      ]
    },
    {
      "cell_type": "markdown",
      "source": [
        "## Tensorboard"
      ],
      "metadata": {
        "id": "g4mp7lynTH5C"
      }
    },
    {
      "cell_type": "code",
      "source": [
        "x = tf.constant(1,name='x')\n",
        "y = tf.constant(1,name='y')\n",
        "a = tf.constant(3,name='a')\n",
        "b = tf.constant(3,name='b')\n"
      ],
      "metadata": {
        "id": "A311Pza4TDcO"
      },
      "execution_count": null,
      "outputs": []
    },
    {
      "cell_type": "code",
      "source": [
        "prod1 = tf.multiply(x,y,name='prod1')\n",
        "prod2 = tf.multiply(a,b,name='prod2')"
      ],
      "metadata": {
        "id": "KkfTrv8YTPu2"
      },
      "execution_count": null,
      "outputs": []
    },
    {
      "cell_type": "code",
      "source": [
        "sum = tf.add(prod1,prod2,name='sum')"
      ],
      "metadata": {
        "id": "suVmC8ryTS9Y"
      },
      "execution_count": null,
      "outputs": []
    },
    {
      "cell_type": "code",
      "source": [
        "with tf.compat.v1.Session() as sess:\n",
        "    writer = tf.compat.v1.summary.FileWriter(logdir='./graph',graph=sess.graph)\n",
        "    print(sess.run(sum))"
      ],
      "metadata": {
        "colab": {
          "base_uri": "https://localhost:8080/"
        },
        "id": "Gw67sAp_TY9t",
        "outputId": "459be2ce-0b56-4861-c983-e9482004625a"
      },
      "execution_count": null,
      "outputs": [
        {
          "output_type": "stream",
          "name": "stdout",
          "text": [
            "10\n"
          ]
        }
      ]
    },
    {
      "cell_type": "code",
      "source": [
        "%load_ext tensorboard\n",
        "%tensorboard --logdir=graphs --port=8000"
      ],
      "metadata": {
        "colab": {
          "base_uri": "https://localhost:8080/",
          "height": 69
        },
        "id": "Q5owosWUTdDm",
        "outputId": "83b3a288-755d-4cd5-fda4-02712a214a3c"
      },
      "execution_count": null,
      "outputs": [
        {
          "output_type": "stream",
          "name": "stdout",
          "text": [
            "The tensorboard extension is already loaded. To reload it, use:\n",
            "  %reload_ext tensorboard\n"
          ]
        },
        {
          "output_type": "display_data",
          "data": {
            "text/plain": [
              "Reusing TensorBoard on port 8000 (pid 38897), started 0:02:09 ago. (Use '!kill 38897' to kill it.)"
            ]
          },
          "metadata": {}
        },
        {
          "output_type": "display_data",
          "data": {
            "text/plain": [
              "<IPython.core.display.Javascript object>"
            ],
            "application/javascript": [
              "\n",
              "        (async () => {\n",
              "            const url = new URL(await google.colab.kernel.proxyPort(8000, {'cache': true}));\n",
              "            url.searchParams.set('tensorboardColab', 'true');\n",
              "            const iframe = document.createElement('iframe');\n",
              "            iframe.src = url;\n",
              "            iframe.setAttribute('width', '100%');\n",
              "            iframe.setAttribute('height', '800');\n",
              "            iframe.setAttribute('frameborder', 0);\n",
              "            document.body.appendChild(iframe);\n",
              "        })();\n",
              "    "
            ]
          },
          "metadata": {}
        }
      ]
    },
    {
      "cell_type": "markdown",
      "source": [
        "## Hand Written digit classification"
      ],
      "metadata": {
        "id": "e4MOOmEEVvmt"
      }
    },
    {
      "cell_type": "code",
      "source": [
        "import warnings\n",
        "warnings.filterwarnings('ignore')\n",
        "import matplotlib.pyplot as plt\n",
        "%matplotlib inline"
      ],
      "metadata": {
        "id": "I4gS6Z5EVIwI"
      },
      "execution_count": null,
      "outputs": []
    },
    {
      "cell_type": "code",
      "source": [
        "mnist = tf.keras.datasets.mnist"
      ],
      "metadata": {
        "id": "_Mu4FKPsWjuB"
      },
      "execution_count": null,
      "outputs": []
    },
    {
      "cell_type": "code",
      "source": [
        "(x_train, y_train), (x_test, y_test) = mnist.load_data()"
      ],
      "metadata": {
        "colab": {
          "base_uri": "https://localhost:8080/"
        },
        "id": "9Ho5oNHtWtTF",
        "outputId": "41216fac-5b8c-4feb-abdf-f7992bae71d7"
      },
      "execution_count": null,
      "outputs": [
        {
          "output_type": "stream",
          "name": "stdout",
          "text": [
            "Downloading data from https://storage.googleapis.com/tensorflow/tf-keras-datasets/mnist.npz\n",
            "11490434/11490434 [==============================] - 0s 0us/step\n"
          ]
        }
      ]
    },
    {
      "cell_type": "code",
      "source": [
        "print(\"No of images in training set {}\".format(x_train.shape))\n",
        "print(\"No of labels in training set {}\".format(y_train.shape))\n",
        "print(\"No of images in test set {}\".format(x_test.shape))\n",
        "print(\"No of labels in test set {}\".format(y_test.shape))"
      ],
      "metadata": {
        "colab": {
          "base_uri": "https://localhost:8080/"
        },
        "id": "fg7nB52LW9Hj",
        "outputId": "200725a2-61ac-442c-90d8-1ba5f0d2e2b9"
      },
      "execution_count": null,
      "outputs": [
        {
          "output_type": "stream",
          "name": "stdout",
          "text": [
            "No of images in training set (60000, 28, 28)\n",
            "No of labels in training set (60000,)\n",
            "No of images in test set (10000, 28, 28)\n",
            "No of labels in test set (10000,)\n"
          ]
        }
      ]
    },
    {
      "cell_type": "code",
      "source": [
        "img1 = x_train[1].reshape(28,28)\n",
        "plt.imshow(img1, cmap='Greys')"
      ],
      "metadata": {
        "colab": {
          "base_uri": "https://localhost:8080/",
          "height": 447
        },
        "id": "JrymZwfFXQpf",
        "outputId": "69f81e69-ee5f-4a78-ca14-77b0f18e98a4"
      },
      "execution_count": null,
      "outputs": [
        {
          "output_type": "execute_result",
          "data": {
            "text/plain": [
              "<matplotlib.image.AxesImage at 0x7e06b63fb5b0>"
            ]
          },
          "metadata": {},
          "execution_count": 90
        },
        {
          "output_type": "display_data",
          "data": {
            "text/plain": [
              "<Figure size 640x480 with 1 Axes>"
            ],
            "image/png": "[encoded data removed]"
          },
          "metadata": {}
        }
      ]
    }
  ]
}